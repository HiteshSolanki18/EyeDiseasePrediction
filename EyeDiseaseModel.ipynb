{
 "cells": [
  {
   "cell_type": "code",
   "execution_count": 76,
   "id": "45792bfc",
   "metadata": {},
   "outputs": [],
   "source": [
    "# import required libraries\n",
    "import numpy as np # linear algebra\n",
    "import pandas as pd # data processing, CSV file I/O (e.g. pd.read_csv)\n",
    "import cv2\n",
    "import random\n",
    "from tqdm import tqdm\n",
    "import matplotlib.pyplot as plt\n",
    "from tensorflow.keras.preprocessing.image import ImageDataGenerator\n",
    "import tensorflow"
   ]
  },
  {
   "cell_type": "code",
   "execution_count": 77,
   "id": "93c29f99",
   "metadata": {},
   "outputs": [
    {
     "name": "stdout",
     "output_type": "stream",
     "text": [
      "D:\\Eye Disease\\archive\n"
     ]
    }
   ],
   "source": [
    "cd D:\\Eye Disease\\archive"
   ]
  },
  {
   "cell_type": "code",
   "execution_count": 78,
   "id": "807b449b",
   "metadata": {},
   "outputs": [
    {
     "data": {
      "text/html": [
       "<div>\n",
       "<style scoped>\n",
       "    .dataframe tbody tr th:only-of-type {\n",
       "        vertical-align: middle;\n",
       "    }\n",
       "\n",
       "    .dataframe tbody tr th {\n",
       "        vertical-align: top;\n",
       "    }\n",
       "\n",
       "    .dataframe thead th {\n",
       "        text-align: right;\n",
       "    }\n",
       "</style>\n",
       "<table border=\"1\" class=\"dataframe\">\n",
       "  <thead>\n",
       "    <tr style=\"text-align: right;\">\n",
       "      <th></th>\n",
       "      <th>ID</th>\n",
       "      <th>Patient Age</th>\n",
       "      <th>Patient Sex</th>\n",
       "      <th>Left-Fundus</th>\n",
       "      <th>Right-Fundus</th>\n",
       "      <th>Left-Diagnostic Keywords</th>\n",
       "      <th>Right-Diagnostic Keywords</th>\n",
       "      <th>N</th>\n",
       "      <th>D</th>\n",
       "      <th>G</th>\n",
       "      <th>C</th>\n",
       "      <th>A</th>\n",
       "      <th>H</th>\n",
       "      <th>M</th>\n",
       "      <th>O</th>\n",
       "      <th>filepath</th>\n",
       "      <th>labels</th>\n",
       "      <th>target</th>\n",
       "      <th>filename</th>\n",
       "    </tr>\n",
       "  </thead>\n",
       "  <tbody>\n",
       "    <tr>\n",
       "      <th>0</th>\n",
       "      <td>0</td>\n",
       "      <td>69</td>\n",
       "      <td>Female</td>\n",
       "      <td>0_left.jpg</td>\n",
       "      <td>0_right.jpg</td>\n",
       "      <td>cataract</td>\n",
       "      <td>normal fundus</td>\n",
       "      <td>0</td>\n",
       "      <td>0</td>\n",
       "      <td>0</td>\n",
       "      <td>1</td>\n",
       "      <td>0</td>\n",
       "      <td>0</td>\n",
       "      <td>0</td>\n",
       "      <td>0</td>\n",
       "      <td>../input/ocular-disease-recognition-odir5k/ODI...</td>\n",
       "      <td>['N']</td>\n",
       "      <td>[1, 0, 0, 0, 0, 0, 0, 0]</td>\n",
       "      <td>0_right.jpg</td>\n",
       "    </tr>\n",
       "    <tr>\n",
       "      <th>1</th>\n",
       "      <td>1</td>\n",
       "      <td>57</td>\n",
       "      <td>Male</td>\n",
       "      <td>1_left.jpg</td>\n",
       "      <td>1_right.jpg</td>\n",
       "      <td>normal fundus</td>\n",
       "      <td>normal fundus</td>\n",
       "      <td>1</td>\n",
       "      <td>0</td>\n",
       "      <td>0</td>\n",
       "      <td>0</td>\n",
       "      <td>0</td>\n",
       "      <td>0</td>\n",
       "      <td>0</td>\n",
       "      <td>0</td>\n",
       "      <td>../input/ocular-disease-recognition-odir5k/ODI...</td>\n",
       "      <td>['N']</td>\n",
       "      <td>[1, 0, 0, 0, 0, 0, 0, 0]</td>\n",
       "      <td>1_right.jpg</td>\n",
       "    </tr>\n",
       "    <tr>\n",
       "      <th>2</th>\n",
       "      <td>2</td>\n",
       "      <td>42</td>\n",
       "      <td>Male</td>\n",
       "      <td>2_left.jpg</td>\n",
       "      <td>2_right.jpg</td>\n",
       "      <td>laser spot，moderate non proliferative retinopathy</td>\n",
       "      <td>moderate non proliferative retinopathy</td>\n",
       "      <td>0</td>\n",
       "      <td>1</td>\n",
       "      <td>0</td>\n",
       "      <td>0</td>\n",
       "      <td>0</td>\n",
       "      <td>0</td>\n",
       "      <td>0</td>\n",
       "      <td>1</td>\n",
       "      <td>../input/ocular-disease-recognition-odir5k/ODI...</td>\n",
       "      <td>['D']</td>\n",
       "      <td>[0, 1, 0, 0, 0, 0, 0, 0]</td>\n",
       "      <td>2_right.jpg</td>\n",
       "    </tr>\n",
       "    <tr>\n",
       "      <th>3</th>\n",
       "      <td>4</td>\n",
       "      <td>53</td>\n",
       "      <td>Male</td>\n",
       "      <td>4_left.jpg</td>\n",
       "      <td>4_right.jpg</td>\n",
       "      <td>macular epiretinal membrane</td>\n",
       "      <td>mild nonproliferative retinopathy</td>\n",
       "      <td>0</td>\n",
       "      <td>1</td>\n",
       "      <td>0</td>\n",
       "      <td>0</td>\n",
       "      <td>0</td>\n",
       "      <td>0</td>\n",
       "      <td>0</td>\n",
       "      <td>1</td>\n",
       "      <td>../input/ocular-disease-recognition-odir5k/ODI...</td>\n",
       "      <td>['D']</td>\n",
       "      <td>[0, 1, 0, 0, 0, 0, 0, 0]</td>\n",
       "      <td>4_right.jpg</td>\n",
       "    </tr>\n",
       "    <tr>\n",
       "      <th>4</th>\n",
       "      <td>5</td>\n",
       "      <td>50</td>\n",
       "      <td>Female</td>\n",
       "      <td>5_left.jpg</td>\n",
       "      <td>5_right.jpg</td>\n",
       "      <td>moderate non proliferative retinopathy</td>\n",
       "      <td>moderate non proliferative retinopathy</td>\n",
       "      <td>0</td>\n",
       "      <td>1</td>\n",
       "      <td>0</td>\n",
       "      <td>0</td>\n",
       "      <td>0</td>\n",
       "      <td>0</td>\n",
       "      <td>0</td>\n",
       "      <td>0</td>\n",
       "      <td>../input/ocular-disease-recognition-odir5k/ODI...</td>\n",
       "      <td>['D']</td>\n",
       "      <td>[0, 1, 0, 0, 0, 0, 0, 0]</td>\n",
       "      <td>5_right.jpg</td>\n",
       "    </tr>\n",
       "  </tbody>\n",
       "</table>\n",
       "</div>"
      ],
      "text/plain": [
       "   ID  Patient Age Patient Sex Left-Fundus Right-Fundus  \\\n",
       "0   0           69      Female  0_left.jpg  0_right.jpg   \n",
       "1   1           57        Male  1_left.jpg  1_right.jpg   \n",
       "2   2           42        Male  2_left.jpg  2_right.jpg   \n",
       "3   4           53        Male  4_left.jpg  4_right.jpg   \n",
       "4   5           50      Female  5_left.jpg  5_right.jpg   \n",
       "\n",
       "                            Left-Diagnostic Keywords  \\\n",
       "0                                           cataract   \n",
       "1                                      normal fundus   \n",
       "2  laser spot，moderate non proliferative retinopathy   \n",
       "3                        macular epiretinal membrane   \n",
       "4             moderate non proliferative retinopathy   \n",
       "\n",
       "                Right-Diagnostic Keywords  N  D  G  C  A  H  M  O  \\\n",
       "0                           normal fundus  0  0  0  1  0  0  0  0   \n",
       "1                           normal fundus  1  0  0  0  0  0  0  0   \n",
       "2  moderate non proliferative retinopathy  0  1  0  0  0  0  0  1   \n",
       "3       mild nonproliferative retinopathy  0  1  0  0  0  0  0  1   \n",
       "4  moderate non proliferative retinopathy  0  1  0  0  0  0  0  0   \n",
       "\n",
       "                                            filepath labels  \\\n",
       "0  ../input/ocular-disease-recognition-odir5k/ODI...  ['N']   \n",
       "1  ../input/ocular-disease-recognition-odir5k/ODI...  ['N']   \n",
       "2  ../input/ocular-disease-recognition-odir5k/ODI...  ['D']   \n",
       "3  ../input/ocular-disease-recognition-odir5k/ODI...  ['D']   \n",
       "4  ../input/ocular-disease-recognition-odir5k/ODI...  ['D']   \n",
       "\n",
       "                     target     filename  \n",
       "0  [1, 0, 0, 0, 0, 0, 0, 0]  0_right.jpg  \n",
       "1  [1, 0, 0, 0, 0, 0, 0, 0]  1_right.jpg  \n",
       "2  [0, 1, 0, 0, 0, 0, 0, 0]  2_right.jpg  \n",
       "3  [0, 1, 0, 0, 0, 0, 0, 0]  4_right.jpg  \n",
       "4  [0, 1, 0, 0, 0, 0, 0, 0]  5_right.jpg  "
      ]
     },
     "execution_count": 78,
     "metadata": {},
     "output_type": "execute_result"
    }
   ],
   "source": [
    "# load dataset\n",
    "df = pd.read_csv(\"full_df.csv\")\n",
    "df.head()"
   ]
  },
  {
   "cell_type": "code",
   "execution_count": 79,
   "id": "b366d82c",
   "metadata": {},
   "outputs": [
    {
     "data": {
      "text/plain": [
       "array(['cataract', 'normal fundus',\n",
       "       'laser spot，moderate non proliferative retinopathy',\n",
       "       'macular epiretinal membrane',\n",
       "       'moderate non proliferative retinopathy', 'drusen',\n",
       "       'epiretinal membrane',\n",
       "       'moderate non proliferative retinopathy，hypertensive retinopathy',\n",
       "       'pathological myopia', 'mild nonproliferative retinopathy',\n",
       "       'hypertensive retinopathy',\n",
       "       'macular epiretinal membrane，mild nonproliferative retinopathy',\n",
       "       'macular hole', 'wet age-related macular degeneration',\n",
       "       'moderate non proliferative retinopathy，laser spot',\n",
       "       'moderate non proliferative retinopathy，myelinated nerve fibers',\n",
       "       'dry age-related macular degeneration',\n",
       "       'epiretinal membrane，myelinated nerve fibers',\n",
       "       'diabetic retinopathy', 'epiretinal membrane，lens dust', 'atrophy',\n",
       "       'laser spot，white vessel，moderate non proliferative retinopathy',\n",
       "       'chorioretinal atrophy',\n",
       "       'moderate non proliferative retinopathy，cataract',\n",
       "       'retinitis pigmentosa',\n",
       "       'moderate non proliferative retinopathy，retina fold',\n",
       "       'normal fundus，lens dust', 'suspected glaucoma',\n",
       "       'vitreous degeneration', 'branch retinal vein occlusion',\n",
       "       'retinal pigment epithelium atrophy，diabetic retinopathy',\n",
       "       'severe nonproliferative retinopathy，white vessel',\n",
       "       'moderate non proliferative retinopathy，epiretinal membrane',\n",
       "       'spotted membranous change，spotted membranous change',\n",
       "       'proliferative diabetic retinopathy，hypertensive retinopathy',\n",
       "       'epiretinal membrane，mild nonproliferative retinopathy',\n",
       "       'drusen，lens dust', 'myelinated nerve fibers',\n",
       "       'macular epiretinal membrane，moderate non proliferative retinopathy',\n",
       "       'severe nonproliferative retinopathy，hypertensive retinopathy',\n",
       "       'retinal pigmentation', 'glaucoma', 'refractive media opacity',\n",
       "       'mild nonproliferative retinopathy，epiretinal membrane',\n",
       "       'mild nonproliferative retinopathy，myelinated nerve fibers',\n",
       "       'dry age-related macular degeneration，glaucoma',\n",
       "       'lens dust，vitreous degeneration',\n",
       "       'laser spot，severe proliferative diabetic retinopathy',\n",
       "       'spotted membranous change',\n",
       "       'lens dust，moderate non proliferative retinopathy',\n",
       "       'mild nonproliferative retinopathy，epiretinal membrane over the macula',\n",
       "       'mild nonproliferative retinopathy，macular epiretinal membrane',\n",
       "       'central retinal vein occlusion',\n",
       "       'severe nonproliferative retinopathy',\n",
       "       'dry age-related macular degeneration，diabetic retinopathy',\n",
       "       'epiretinal membrane，moderate non proliferative retinopathy',\n",
       "       'lens dust，normal fundus',\n",
       "       'depigmentation of the retinal pigment epithelium',\n",
       "       'suspected retinal vascular sheathing',\n",
       "       'maculopathy，macular epiretinal membrane', 'tessellated fundus',\n",
       "       'moderate non proliferative retinopathy，lens dust',\n",
       "       'macular coloboma',\n",
       "       'white vessel，severe nonproliferative retinopathy',\n",
       "       'moderate non proliferative retinopathy，branch retinal vein occlusion',\n",
       "       'macular epiretinal membrane，vessel tortuosity',\n",
       "       'hypertensive retinopathy,diabetic retinopathy',\n",
       "       'hypertensive retinopathy，optic nerve atrophy',\n",
       "       'wedge white line change',\n",
       "       'moderate non proliferative retinopathy，drusen',\n",
       "       'epiretinal membrane over the macula',\n",
       "       'mild nonproliferative retinopathy，drusen',\n",
       "       'white vessel，moderate non proliferative retinopathy',\n",
       "       'hypertensive retinopathy，suspected glaucoma',\n",
       "       'old choroiditis，macular epiretinal membrane',\n",
       "       'myopic maculopathy',\n",
       "       'macular epiretinal membrane，severe nonproliferative retinopathy',\n",
       "       'chorioretinal atrophy with pigmentation proliferation，epiretinal membrane',\n",
       "       'laser spot',\n",
       "       'chorioretinal atrophy with pigmentation proliferation',\n",
       "       'laser spot，proliferative diabetic retinopathy，white vessel',\n",
       "       'lens dust，macular epiretinal membrane',\n",
       "       'laser spot，mild nonproliferative retinopathy',\n",
       "       'pigment epithelium proliferation',\n",
       "       'optic disk epiretinal membrane', 'drusen，cataract，lens dust',\n",
       "       'chorioretinal atrophy with pigmentation proliferation，lens dust',\n",
       "       'macular epiretinal membrane，lens dust',\n",
       "       'moderate non proliferative retinopathy，macular epiretinal membrane',\n",
       "       'mild nonproliferative retinopathy，vitreous degeneration',\n",
       "       'vitreous degeneration，mild nonproliferative retinopathy',\n",
       "       'optic disk photographically invisible',\n",
       "       'moderate non proliferative retinopathy，chorioretinal atrophy',\n",
       "       'epiretinal membrane over the macula，white vessel',\n",
       "       'laser spot，white vessel',\n",
       "       'laser spot，moderate non proliferative retinopathy，macular epiretinal membrane',\n",
       "       'maculopathy',\n",
       "       'mild nonproliferative retinopathy，retinal pigmentation',\n",
       "       'hypertensive retinopathy，mild nonproliferative retinopathy',\n",
       "       'moderate non proliferative retinopathy，white vessel',\n",
       "       'mild nonproliferative retinopathy，mild nonproliferative retinopathy',\n",
       "       'severe proliferative diabetic retinopathy', 'cataract，lens dust',\n",
       "       'epiretinal membrane，drusen', 'lens dust，drusen',\n",
       "       'cataract，suspected glaucoma',\n",
       "       'epiretinal membrane，laser spot，severe proliferative diabetic retinopathy',\n",
       "       'moderate non proliferative retinopathy，optic disc edema',\n",
       "       'moderate non proliferative retinopathy，vitreous degeneration',\n",
       "       'old chorioretinopathy', 'old branch retinal vein occlusion',\n",
       "       'vitreous degeneration，vitreous degeneration',\n",
       "       'macular epiretinal membrane，moderate non proliferative retinopathy，laser spot',\n",
       "       'suspected glaucoma，suspicious diabetic retinopathy',\n",
       "       'hypertensive retinopathy，suspected diabetic retinopathy',\n",
       "       'myelinated nerve fibers，moderate non proliferative retinopathy',\n",
       "       'branch retinal vein occlusion，lens dust',\n",
       "       'drusen，branch retinal vein occlusion',\n",
       "       'hypertensive retinopathy，moderate non proliferative retinopathy',\n",
       "       'idiopathic choroidal neovascularization',\n",
       "       'wet age-related macular degeneration，diffuse chorioretinal atrophy',\n",
       "       'proliferative diabetic retinopathy',\n",
       "       'drusen，mild nonproliferative retinopathy',\n",
       "       'cataract，moderate non proliferative retinopathy',\n",
       "       'epiretinal membrane，normal fundus，lens dust',\n",
       "       'moderate non proliferative retinopathy，atrophic change',\n",
       "       'suspected glaucoma，moderate non proliferative retinopathy',\n",
       "       'dry age-related macular degeneration，myopia retinopathy',\n",
       "       'diabetic retinopathy，wet age-related macular degeneration',\n",
       "       'lens dust，mild nonproliferative retinopathy，myelinated nerve fibers',\n",
       "       'diabetic retinopathy，post laser photocoagulation',\n",
       "       'dry age-related macular degeneration，hypertensive retinopathy',\n",
       "       'laser spot，branch retinal vein occlusion',\n",
       "       'white vessel，arteriosclerosis', 'silicone oil eye',\n",
       "       'epiretinal membrane，chorioretinal atrophy', 'optic disc edema',\n",
       "       'dry age-related macular degeneration，choroidal nevus',\n",
       "       'glaucoma，optic nerve atrophy', 'glaucoma，myopia retinopathy',\n",
       "       'glaucoma，macular epiretinal membrane',\n",
       "       'glaucoma，diabetic retinopathy', 'image offset',\n",
       "       'glaucoma，diffuse retinal atrophy',\n",
       "       'old central retinal vein occlusion',\n",
       "       'fundus laser photocoagulation spots',\n",
       "       'glaucoma，intraretinal hemorrhage',\n",
       "       'glaucoma，hypertensive retinopathy',\n",
       "       'glaucoma，central retinal vein occlusion',\n",
       "       'macular epiretinal membrane，glaucoma',\n",
       "       'suspected glaucoma，refractive media opacity',\n",
       "       'suspected glaucoma，mild nonproliferative retinopathy',\n",
       "       'white vessel，suspected glaucoma', 'suspected glaucoma，drusen',\n",
       "       'glaucoma，moderate non proliferative retinopathy',\n",
       "       'lens dust，glaucoma',\n",
       "       'moderate non proliferative retinopathy，glaucoma',\n",
       "       'refractive media opacity，pathological myopia',\n",
       "       'lens dust，pathological myopia',\n",
       "       'suspected moderate non proliferative retinopathy，pathological myopia',\n",
       "       'tessellated fundus，peripapillary atrophy',\n",
       "       'tessellated fundus，chorioretinal atrophy',\n",
       "       'moderate non proliferative retinopathy，pathological myopia',\n",
       "       'peripapillary atrophy', 'anterior segment image',\n",
       "       'laser spot，chorioretinal atrophy，glaucoma',\n",
       "       'diabetic retinopathy，dry age-related macular degeneration',\n",
       "       'glaucoma，lens dust',\n",
       "       'cataract，myelinated nerve fibers，moderate non proliferative retinopathy',\n",
       "       'maculopathy，glaucoma',\n",
       "       'myelinated nerve fibers，suspected glaucoma',\n",
       "       'hypertensive retinopathy，cataract',\n",
       "       'hypertensive retinopathy，diabetic retinopathy',\n",
       "       'diabetic retinopathy，wet age-related macular degeneration，macular epiretinal membrane',\n",
       "       'moderate non proliferative retinopathy，refractive media opacity',\n",
       "       'laser spot，cataract',\n",
       "       'cataract，mild nonproliferative retinopathy', 'lens dust，cataract',\n",
       "       'normal fundus，normal fundus', 'low image quality',\n",
       "       'mild nonproliferative retinopathy，hypertensive retinopathy',\n",
       "       'mild nonproliferative retinopathy，dry age-related macular degeneration',\n",
       "       'no fundus image',\n",
       "       'hypertensive retinopathy，age-related macular degeneration',\n",
       "       'epiretinal membrane，moderate non proliferative retinopathy，laser spot',\n",
       "       'vitreous degeneration，lens dust', 'low image quality,maculopathy',\n",
       "       'moderate non proliferative retinopathy，lens dust，drusen',\n",
       "       'mild nonproliferative retinopathy，lens dust，drusen',\n",
       "       'wet age-related macular degeneration，myopia retinopathy',\n",
       "       'macular epiretinal membrane，laser spot',\n",
       "       'epiretinal membrane，epiretinal membrane，lens dust',\n",
       "       'moderate non proliferative retinopathy，myelinated nerve fibers，laser spot',\n",
       "       'glaucoma，mild nonproliferative retinopathy，macular pigmentation disorder',\n",
       "       'moderate non proliferative retinopathy，suspected glaucoma',\n",
       "       'glaucoma，wet age-related macular degeneration'], dtype=object)"
      ]
     },
     "execution_count": 79,
     "metadata": {},
     "output_type": "execute_result"
    }
   ],
   "source": [
    "df['Left-Diagnostic Keywords'].unique()"
   ]
  },
  {
   "cell_type": "code",
   "execution_count": 80,
   "id": "fc3dd628",
   "metadata": {},
   "outputs": [],
   "source": [
    "def has_cataract(text):\n",
    "    if \"cataract\" in text:\n",
    "        return 1\n",
    "    else:\n",
    "        return 0"
   ]
  },
  {
   "cell_type": "code",
   "execution_count": 81,
   "id": "389f6bff",
   "metadata": {},
   "outputs": [],
   "source": [
    "df[\"left_cataract\"] = df[\"Left-Diagnostic Keywords\"].apply(lambda x: has_cataract(x))\n",
    "df[\"right_cataract\"] = df[\"Right-Diagnostic Keywords\"].apply(lambda x: has_cataract(x))"
   ]
  },
  {
   "cell_type": "code",
   "execution_count": 82,
   "id": "75c59780",
   "metadata": {},
   "outputs": [],
   "source": [
    "def has_glaucoma(text):\n",
    "    if \"glaucoma\" in text:\n",
    "        return 1\n",
    "    else:\n",
    "        return 0"
   ]
  },
  {
   "cell_type": "code",
   "execution_count": 83,
   "id": "3153b216",
   "metadata": {},
   "outputs": [],
   "source": [
    "df[\"left_glaucoma\"] = df[\"Left-Diagnostic Keywords\"].apply(lambda x: has_glaucoma(x))\n",
    "df[\"right_glaucoma\"] = df[\"Right-Diagnostic Keywords\"].apply(lambda x: has_glaucoma(x))"
   ]
  },
  {
   "cell_type": "code",
   "execution_count": 84,
   "id": "a11949e8",
   "metadata": {},
   "outputs": [
    {
     "data": {
      "text/html": [
       "<div>\n",
       "<style scoped>\n",
       "    .dataframe tbody tr th:only-of-type {\n",
       "        vertical-align: middle;\n",
       "    }\n",
       "\n",
       "    .dataframe tbody tr th {\n",
       "        vertical-align: top;\n",
       "    }\n",
       "\n",
       "    .dataframe thead th {\n",
       "        text-align: right;\n",
       "    }\n",
       "</style>\n",
       "<table border=\"1\" class=\"dataframe\">\n",
       "  <thead>\n",
       "    <tr style=\"text-align: right;\">\n",
       "      <th></th>\n",
       "      <th>ID</th>\n",
       "      <th>Patient Age</th>\n",
       "      <th>Patient Sex</th>\n",
       "      <th>Left-Fundus</th>\n",
       "      <th>Right-Fundus</th>\n",
       "      <th>Left-Diagnostic Keywords</th>\n",
       "      <th>Right-Diagnostic Keywords</th>\n",
       "      <th>N</th>\n",
       "      <th>D</th>\n",
       "      <th>G</th>\n",
       "      <th>...</th>\n",
       "      <th>M</th>\n",
       "      <th>O</th>\n",
       "      <th>filepath</th>\n",
       "      <th>labels</th>\n",
       "      <th>target</th>\n",
       "      <th>filename</th>\n",
       "      <th>left_cataract</th>\n",
       "      <th>right_cataract</th>\n",
       "      <th>left_glaucoma</th>\n",
       "      <th>right_glaucoma</th>\n",
       "    </tr>\n",
       "  </thead>\n",
       "  <tbody>\n",
       "    <tr>\n",
       "      <th>0</th>\n",
       "      <td>0</td>\n",
       "      <td>69</td>\n",
       "      <td>Female</td>\n",
       "      <td>0_left.jpg</td>\n",
       "      <td>0_right.jpg</td>\n",
       "      <td>cataract</td>\n",
       "      <td>normal fundus</td>\n",
       "      <td>0</td>\n",
       "      <td>0</td>\n",
       "      <td>0</td>\n",
       "      <td>...</td>\n",
       "      <td>0</td>\n",
       "      <td>0</td>\n",
       "      <td>../input/ocular-disease-recognition-odir5k/ODI...</td>\n",
       "      <td>['N']</td>\n",
       "      <td>[1, 0, 0, 0, 0, 0, 0, 0]</td>\n",
       "      <td>0_right.jpg</td>\n",
       "      <td>1</td>\n",
       "      <td>0</td>\n",
       "      <td>0</td>\n",
       "      <td>0</td>\n",
       "    </tr>\n",
       "    <tr>\n",
       "      <th>1</th>\n",
       "      <td>1</td>\n",
       "      <td>57</td>\n",
       "      <td>Male</td>\n",
       "      <td>1_left.jpg</td>\n",
       "      <td>1_right.jpg</td>\n",
       "      <td>normal fundus</td>\n",
       "      <td>normal fundus</td>\n",
       "      <td>1</td>\n",
       "      <td>0</td>\n",
       "      <td>0</td>\n",
       "      <td>...</td>\n",
       "      <td>0</td>\n",
       "      <td>0</td>\n",
       "      <td>../input/ocular-disease-recognition-odir5k/ODI...</td>\n",
       "      <td>['N']</td>\n",
       "      <td>[1, 0, 0, 0, 0, 0, 0, 0]</td>\n",
       "      <td>1_right.jpg</td>\n",
       "      <td>0</td>\n",
       "      <td>0</td>\n",
       "      <td>0</td>\n",
       "      <td>0</td>\n",
       "    </tr>\n",
       "    <tr>\n",
       "      <th>2</th>\n",
       "      <td>2</td>\n",
       "      <td>42</td>\n",
       "      <td>Male</td>\n",
       "      <td>2_left.jpg</td>\n",
       "      <td>2_right.jpg</td>\n",
       "      <td>laser spot，moderate non proliferative retinopathy</td>\n",
       "      <td>moderate non proliferative retinopathy</td>\n",
       "      <td>0</td>\n",
       "      <td>1</td>\n",
       "      <td>0</td>\n",
       "      <td>...</td>\n",
       "      <td>0</td>\n",
       "      <td>1</td>\n",
       "      <td>../input/ocular-disease-recognition-odir5k/ODI...</td>\n",
       "      <td>['D']</td>\n",
       "      <td>[0, 1, 0, 0, 0, 0, 0, 0]</td>\n",
       "      <td>2_right.jpg</td>\n",
       "      <td>0</td>\n",
       "      <td>0</td>\n",
       "      <td>0</td>\n",
       "      <td>0</td>\n",
       "    </tr>\n",
       "    <tr>\n",
       "      <th>3</th>\n",
       "      <td>4</td>\n",
       "      <td>53</td>\n",
       "      <td>Male</td>\n",
       "      <td>4_left.jpg</td>\n",
       "      <td>4_right.jpg</td>\n",
       "      <td>macular epiretinal membrane</td>\n",
       "      <td>mild nonproliferative retinopathy</td>\n",
       "      <td>0</td>\n",
       "      <td>1</td>\n",
       "      <td>0</td>\n",
       "      <td>...</td>\n",
       "      <td>0</td>\n",
       "      <td>1</td>\n",
       "      <td>../input/ocular-disease-recognition-odir5k/ODI...</td>\n",
       "      <td>['D']</td>\n",
       "      <td>[0, 1, 0, 0, 0, 0, 0, 0]</td>\n",
       "      <td>4_right.jpg</td>\n",
       "      <td>0</td>\n",
       "      <td>0</td>\n",
       "      <td>0</td>\n",
       "      <td>0</td>\n",
       "    </tr>\n",
       "    <tr>\n",
       "      <th>4</th>\n",
       "      <td>5</td>\n",
       "      <td>50</td>\n",
       "      <td>Female</td>\n",
       "      <td>5_left.jpg</td>\n",
       "      <td>5_right.jpg</td>\n",
       "      <td>moderate non proliferative retinopathy</td>\n",
       "      <td>moderate non proliferative retinopathy</td>\n",
       "      <td>0</td>\n",
       "      <td>1</td>\n",
       "      <td>0</td>\n",
       "      <td>...</td>\n",
       "      <td>0</td>\n",
       "      <td>0</td>\n",
       "      <td>../input/ocular-disease-recognition-odir5k/ODI...</td>\n",
       "      <td>['D']</td>\n",
       "      <td>[0, 1, 0, 0, 0, 0, 0, 0]</td>\n",
       "      <td>5_right.jpg</td>\n",
       "      <td>0</td>\n",
       "      <td>0</td>\n",
       "      <td>0</td>\n",
       "      <td>0</td>\n",
       "    </tr>\n",
       "  </tbody>\n",
       "</table>\n",
       "<p>5 rows × 23 columns</p>\n",
       "</div>"
      ],
      "text/plain": [
       "   ID  Patient Age Patient Sex Left-Fundus Right-Fundus  \\\n",
       "0   0           69      Female  0_left.jpg  0_right.jpg   \n",
       "1   1           57        Male  1_left.jpg  1_right.jpg   \n",
       "2   2           42        Male  2_left.jpg  2_right.jpg   \n",
       "3   4           53        Male  4_left.jpg  4_right.jpg   \n",
       "4   5           50      Female  5_left.jpg  5_right.jpg   \n",
       "\n",
       "                            Left-Diagnostic Keywords  \\\n",
       "0                                           cataract   \n",
       "1                                      normal fundus   \n",
       "2  laser spot，moderate non proliferative retinopathy   \n",
       "3                        macular epiretinal membrane   \n",
       "4             moderate non proliferative retinopathy   \n",
       "\n",
       "                Right-Diagnostic Keywords  N  D  G  ...  M  O  \\\n",
       "0                           normal fundus  0  0  0  ...  0  0   \n",
       "1                           normal fundus  1  0  0  ...  0  0   \n",
       "2  moderate non proliferative retinopathy  0  1  0  ...  0  1   \n",
       "3       mild nonproliferative retinopathy  0  1  0  ...  0  1   \n",
       "4  moderate non proliferative retinopathy  0  1  0  ...  0  0   \n",
       "\n",
       "                                            filepath  labels  \\\n",
       "0  ../input/ocular-disease-recognition-odir5k/ODI...   ['N']   \n",
       "1  ../input/ocular-disease-recognition-odir5k/ODI...   ['N']   \n",
       "2  ../input/ocular-disease-recognition-odir5k/ODI...   ['D']   \n",
       "3  ../input/ocular-disease-recognition-odir5k/ODI...   ['D']   \n",
       "4  ../input/ocular-disease-recognition-odir5k/ODI...   ['D']   \n",
       "\n",
       "                     target     filename left_cataract right_cataract  \\\n",
       "0  [1, 0, 0, 0, 0, 0, 0, 0]  0_right.jpg             1              0   \n",
       "1  [1, 0, 0, 0, 0, 0, 0, 0]  1_right.jpg             0              0   \n",
       "2  [0, 1, 0, 0, 0, 0, 0, 0]  2_right.jpg             0              0   \n",
       "3  [0, 1, 0, 0, 0, 0, 0, 0]  4_right.jpg             0              0   \n",
       "4  [0, 1, 0, 0, 0, 0, 0, 0]  5_right.jpg             0              0   \n",
       "\n",
       "  left_glaucoma  right_glaucoma  \n",
       "0             0               0  \n",
       "1             0               0  \n",
       "2             0               0  \n",
       "3             0               0  \n",
       "4             0               0  \n",
       "\n",
       "[5 rows x 23 columns]"
      ]
     },
     "execution_count": 84,
     "metadata": {},
     "output_type": "execute_result"
    }
   ],
   "source": [
    "df.head()"
   ]
  },
  {
   "cell_type": "code",
   "execution_count": 85,
   "id": "e42ca57c",
   "metadata": {},
   "outputs": [
    {
     "data": {
      "text/plain": [
       "0    5990\n",
       "1     402\n",
       "Name: C, dtype: int64"
      ]
     },
     "execution_count": 85,
     "metadata": {},
     "output_type": "execute_result"
    }
   ],
   "source": [
    "df['C'].value_counts()"
   ]
  },
  {
   "cell_type": "code",
   "execution_count": 86,
   "id": "552055cb",
   "metadata": {},
   "outputs": [
    {
     "data": {
      "text/plain": [
       "0    6060\n",
       "1     332\n",
       "Name: left_glaucoma, dtype: int64"
      ]
     },
     "execution_count": 86,
     "metadata": {},
     "output_type": "execute_result"
    }
   ],
   "source": [
    "df.left_glaucoma.value_counts()"
   ]
  },
  {
   "cell_type": "code",
   "execution_count": 87,
   "id": "e015bd30",
   "metadata": {},
   "outputs": [
    {
     "data": {
      "text/plain": [
       "0    6108\n",
       "1     284\n",
       "Name: right_glaucoma, dtype: int64"
      ]
     },
     "execution_count": 87,
     "metadata": {},
     "output_type": "execute_result"
    }
   ],
   "source": [
    "df.right_glaucoma.value_counts()"
   ]
  },
  {
   "cell_type": "code",
   "execution_count": 88,
   "id": "ccbe4989",
   "metadata": {},
   "outputs": [
    {
     "data": {
      "text/plain": [
       "array(['0_left.jpg', '81_left.jpg', '103_left.jpg', '119_left.jpg',\n",
       "       '254_left.jpg', '294_left.jpg', '330_left.jpg', '448_left.jpg',\n",
       "       '465_left.jpg', '477_left.jpg', '553_left.jpg', '560_left.jpg',\n",
       "       '594_left.jpg', '611_left.jpg', '625_left.jpg'], dtype=object)"
      ]
     },
     "execution_count": 88,
     "metadata": {},
     "output_type": "execute_result"
    }
   ],
   "source": [
    "left_cataract = df.loc[(df.C ==1) & (df.left_cataract == 1)][\"Left-Fundus\"].values\n",
    "left_cataract[:15]"
   ]
  },
  {
   "cell_type": "code",
   "execution_count": 89,
   "id": "b90acf5b",
   "metadata": {},
   "outputs": [
    {
     "data": {
      "text/plain": [
       "array(['24_right.jpg', '81_right.jpg', '112_right.jpg', '188_right.jpg',\n",
       "       '218_right.jpg', '345_right.jpg', '354_right.jpg', '477_right.jpg',\n",
       "       '553_right.jpg', '560_right.jpg', '625_right.jpg', '726_right.jpg',\n",
       "       '769_right.jpg', '949_right.jpg', '955_right.jpg'], dtype=object)"
      ]
     },
     "execution_count": 89,
     "metadata": {},
     "output_type": "execute_result"
    }
   ],
   "source": [
    "right_cataract = df.loc[(df.C ==1) & (df.right_cataract == 1)][\"Right-Fundus\"].values\n",
    "right_cataract[:15]"
   ]
  },
  {
   "cell_type": "code",
   "execution_count": 90,
   "id": "8892fa4d",
   "metadata": {},
   "outputs": [
    {
     "data": {
      "text/plain": [
       "array(['95_left.jpg', '153_left.jpg', '167_left.jpg', '178_left.jpg',\n",
       "       '247_left.jpg', '365_left.jpg', '583_left.jpg', '625_left.jpg',\n",
       "       '746_left.jpg', '931_left.jpg', '1209_left.jpg', '1210_left.jpg',\n",
       "       '1211_left.jpg', '1212_left.jpg', '1213_left.jpg'], dtype=object)"
      ]
     },
     "execution_count": 90,
     "metadata": {},
     "output_type": "execute_result"
    }
   ],
   "source": [
    "left_glaucoma = df.loc[(df.G ==1) & (df.left_glaucoma == 1)][\"Left-Fundus\"].values\n",
    "left_glaucoma[:15]"
   ]
  },
  {
   "cell_type": "code",
   "execution_count": 91,
   "id": "3c199781",
   "metadata": {},
   "outputs": [
    {
     "data": {
      "text/plain": [
       "array(['43_left.jpg', '167_left.jpg', '238_left.jpg', '247_left.jpg',\n",
       "       '365_left.jpg', '583_left.jpg', '746_left.jpg', '931_left.jpg',\n",
       "       '1209_left.jpg', '1210_left.jpg', '1211_left.jpg', '1212_left.jpg',\n",
       "       '1213_left.jpg', '1214_left.jpg', '1215_left.jpg'], dtype=object)"
      ]
     },
     "execution_count": 91,
     "metadata": {},
     "output_type": "execute_result"
    }
   ],
   "source": [
    "right_glaucoma = df.loc[(df.G ==1) & (df.right_glaucoma == 1)][\"Left-Fundus\"].values\n",
    "right_glaucoma[:15]"
   ]
  },
  {
   "cell_type": "code",
   "execution_count": 92,
   "id": "909a1234",
   "metadata": {},
   "outputs": [
    {
     "name": "stdout",
     "output_type": "stream",
     "text": [
      "Number of images in left cataract: 304\n",
      "Number of images in right cataract: 290\n"
     ]
    }
   ],
   "source": [
    "print(\"Number of images in left cataract: {}\".format(len(left_cataract)))\n",
    "print(\"Number of images in right cataract: {}\".format(len(right_cataract)))"
   ]
  },
  {
   "cell_type": "code",
   "execution_count": 93,
   "id": "3a23144f",
   "metadata": {},
   "outputs": [
    {
     "name": "stdout",
     "output_type": "stream",
     "text": [
      "Number of images in left cataract: 332\n",
      "Number of images in right cataract: 284\n"
     ]
    }
   ],
   "source": [
    "print(\"Number of images in left cataract: {}\".format(len(left_glaucoma)))\n",
    "print(\"Number of images in right cataract: {}\".format(len(right_glaucoma)))"
   ]
  },
  {
   "cell_type": "code",
   "execution_count": 94,
   "id": "a73ace76",
   "metadata": {},
   "outputs": [
    {
     "data": {
      "text/plain": [
       "array(['2964_right.jpg', '680_right.jpg', '500_right.jpg',\n",
       "       '2368_right.jpg', '2820_right.jpg', '2769_right.jpg',\n",
       "       '2696_right.jpg', '2890_right.jpg', '940_right.jpg',\n",
       "       '2553_right.jpg', '3371_right.jpg', '3042_right.jpg',\n",
       "       '919_right.jpg', '3427_right.jpg', '379_right.jpg'], dtype=object)"
      ]
     },
     "execution_count": 94,
     "metadata": {},
     "output_type": "execute_result"
    }
   ],
   "source": [
    "left_normal = df.loc[(df.C ==0) & (df[\"Left-Diagnostic Keywords\"] == \"normal fundus\")][\"Left-Fundus\"].sample(250,random_state=42).values\n",
    "right_normal = df.loc[(df.C ==0) & (df[\"Right-Diagnostic Keywords\"] == \"normal fundus\")][\"Right-Fundus\"].sample(250,random_state=42).values\n",
    "right_normal[:15]"
   ]
  },
  {
   "cell_type": "code",
   "execution_count": 95,
   "id": "d2e0227c",
   "metadata": {},
   "outputs": [],
   "source": [
    "cataract = np.concatenate((left_cataract,right_cataract),axis=0)\n",
    "glaucoma = np.concatenate((left_glaucoma,right_glaucoma),axis=0)\n",
    "normal = np.concatenate((left_normal,right_normal),axis=0)"
   ]
  },
  {
   "cell_type": "code",
   "execution_count": 96,
   "id": "f437b18f",
   "metadata": {},
   "outputs": [
    {
     "data": {
      "text/plain": [
       "array(['3332_left.jpg', '4059_left.jpg', '69_left.jpg', '2415_left.jpg',\n",
       "       '4176_left.jpg', '2711_left.jpg', '4614_left.jpg', '3174_left.jpg',\n",
       "       '2862_left.jpg', '2424_left.jpg', '3193_left.jpg', '3306_left.jpg',\n",
       "       '2961_left.jpg', '2425_left.jpg', '2858_left.jpg', '3180_left.jpg',\n",
       "       '2668_left.jpg', '2659_left.jpg', '2336_left.jpg', '277_left.jpg',\n",
       "       '2897_left.jpg', '1151_left.jpg', '3011_left.jpg', '3083_left.jpg',\n",
       "       '4059_left.jpg', '4576_left.jpg', '2563_left.jpg', '2549_left.jpg',\n",
       "       '3025_left.jpg', '2330_left.jpg', '2562_left.jpg', '3438_left.jpg',\n",
       "       '3047_left.jpg', '3150_left.jpg', '570_left.jpg', '2430_left.jpg',\n",
       "       '2532_left.jpg', '3426_left.jpg', '2475_left.jpg', '3214_left.jpg',\n",
       "       '1253_left.jpg', '2819_left.jpg', '3415_left.jpg', '2973_left.jpg',\n",
       "       '2488_left.jpg', '2349_left.jpg', '3025_left.jpg', '3125_left.jpg',\n",
       "       '160_left.jpg', '2999_left.jpg', '2886_left.jpg', '3179_left.jpg',\n",
       "       '1021_left.jpg', '3410_left.jpg', '933_left.jpg', '3067_left.jpg',\n",
       "       '2669_left.jpg', '3096_left.jpg', '124_left.jpg', '3364_left.jpg',\n",
       "       '3408_left.jpg', '155_left.jpg', '1425_left.jpg', '2914_left.jpg',\n",
       "       '2576_left.jpg', '3266_left.jpg', '3311_left.jpg', '2561_left.jpg',\n",
       "       '2398_left.jpg', '3339_left.jpg', '2514_left.jpg', '3033_left.jpg',\n",
       "       '3152_left.jpg', '2359_left.jpg', '2822_left.jpg', '3204_left.jpg',\n",
       "       '4683_left.jpg', '4111_left.jpg', '3150_left.jpg', '1032_left.jpg',\n",
       "       '2960_left.jpg', '2986_left.jpg', '3142_left.jpg', '2802_left.jpg',\n",
       "       '1165_left.jpg', '3308_left.jpg', '2977_left.jpg', '822_left.jpg',\n",
       "       '2673_left.jpg', '3408_left.jpg', '2720_left.jpg', '1054_left.jpg',\n",
       "       '2780_left.jpg', '785_left.jpg', '356_left.jpg', '4360_left.jpg',\n",
       "       '3084_left.jpg', '3271_left.jpg', '982_left.jpg', '83_left.jpg',\n",
       "       '3209_left.jpg', '3371_left.jpg', '3263_left.jpg', '3177_left.jpg',\n",
       "       '3052_left.jpg', '979_left.jpg', '2565_left.jpg', '2427_left.jpg',\n",
       "       '2998_left.jpg', '394_left.jpg', '2613_left.jpg', '2384_left.jpg',\n",
       "       '822_left.jpg', '3100_left.jpg', '3295_left.jpg', '3222_left.jpg',\n",
       "       '3177_left.jpg', '2645_left.jpg', '2329_left.jpg', '2706_left.jpg',\n",
       "       '15_left.jpg', '2616_left.jpg', '2593_left.jpg', '42_left.jpg',\n",
       "       '3013_left.jpg', '3262_left.jpg', '2454_left.jpg', '3146_left.jpg',\n",
       "       '1053_left.jpg', '2614_left.jpg', '3405_left.jpg', '2678_left.jpg',\n",
       "       '4535_left.jpg', '228_left.jpg', '2902_left.jpg', '3243_left.jpg',\n",
       "       '228_left.jpg', '2619_left.jpg', '3437_left.jpg', '2714_left.jpg',\n",
       "       '4410_left.jpg', '468_left.jpg', '3311_left.jpg', '3012_left.jpg',\n",
       "       '2643_left.jpg', '1165_left.jpg', '2937_left.jpg', '2993_left.jpg',\n",
       "       '2813_left.jpg', '2754_left.jpg', '52_left.jpg', '554_left.jpg',\n",
       "       '3208_left.jpg', '3387_left.jpg', '2576_left.jpg', '3380_left.jpg',\n",
       "       '2368_left.jpg', '2479_left.jpg', '3305_left.jpg', '3207_left.jpg',\n",
       "       '2612_left.jpg', '197_left.jpg', '3275_left.jpg', '3406_left.jpg',\n",
       "       '347_left.jpg', '3202_left.jpg', '3242_left.jpg', '1038_left.jpg',\n",
       "       '285_left.jpg', '740_left.jpg', '2421_left.jpg', '3203_left.jpg',\n",
       "       '2533_left.jpg', '4117_left.jpg', '3324_left.jpg', '3172_left.jpg',\n",
       "       '2442_left.jpg', '2712_left.jpg', '2610_left.jpg', '2715_left.jpg',\n",
       "       '695_left.jpg', '3203_left.jpg', '4594_left.jpg', '770_left.jpg',\n",
       "       '2585_left.jpg', '3362_left.jpg', '2722_left.jpg', '710_left.jpg',\n",
       "       '2642_left.jpg', '3244_left.jpg', '2844_left.jpg', '1416_left.jpg',\n",
       "       '3268_left.jpg', '2687_left.jpg', '1086_left.jpg', '4316_left.jpg',\n",
       "       '2820_left.jpg', '2570_left.jpg', '2688_left.jpg', '2783_left.jpg',\n",
       "       '4637_left.jpg', '3297_left.jpg', '4300_left.jpg', '2784_left.jpg',\n",
       "       '2782_left.jpg', '2542_left.jpg', '233_left.jpg', '2826_left.jpg',\n",
       "       '4292_left.jpg', '2825_left.jpg', '437_left.jpg', '3070_left.jpg',\n",
       "       '313_left.jpg', '3352_left.jpg', '2564_left.jpg', '3009_left.jpg',\n",
       "       '2401_left.jpg', '2679_left.jpg', '2529_left.jpg', '2378_left.jpg',\n",
       "       '3309_left.jpg', '2868_left.jpg', '3162_left.jpg', '3425_left.jpg',\n",
       "       '2716_left.jpg', '3030_left.jpg', '2609_left.jpg', '2631_left.jpg',\n",
       "       '140_left.jpg', '3084_left.jpg', '3107_left.jpg', '143_left.jpg',\n",
       "       '3132_left.jpg', '2457_left.jpg', '2933_left.jpg', '4333_left.jpg',\n",
       "       '2717_left.jpg', '3165_left.jpg', '3018_left.jpg', '3436_left.jpg',\n",
       "       '1109_left.jpg', '781_left.jpg', '1011_left.jpg', '3065_left.jpg',\n",
       "       '2845_left.jpg', '227_left.jpg', '434_left.jpg', '2590_left.jpg',\n",
       "       '2689_left.jpg', '3358_left.jpg', '2964_right.jpg',\n",
       "       '680_right.jpg', '500_right.jpg', '2368_right.jpg',\n",
       "       '2820_right.jpg', '2769_right.jpg', '2696_right.jpg',\n",
       "       '2890_right.jpg', '940_right.jpg', '2553_right.jpg',\n",
       "       '3371_right.jpg', '3042_right.jpg', '919_right.jpg',\n",
       "       '3427_right.jpg', '379_right.jpg', '1610_right.jpg',\n",
       "       '394_right.jpg', '4362_right.jpg', '2905_right.jpg',\n",
       "       '2569_right.jpg', '2923_right.jpg', '2481_right.jpg',\n",
       "       '3183_right.jpg', '2957_right.jpg', '3437_right.jpg',\n",
       "       '3003_right.jpg', '2430_right.jpg', '3001_right.jpg',\n",
       "       '3115_right.jpg', '2847_right.jpg', '3360_right.jpg',\n",
       "       '3440_right.jpg', '2380_right.jpg', '159_right.jpg',\n",
       "       '2749_right.jpg', '2864_right.jpg', '3020_right.jpg',\n",
       "       '2525_right.jpg', '2414_right.jpg', '1143_right.jpg',\n",
       "       '2730_right.jpg', '1421_right.jpg', '1441_right.jpg',\n",
       "       '3267_right.jpg', '4074_right.jpg', '3401_right.jpg',\n",
       "       '2399_right.jpg', '2514_right.jpg', '2609_right.jpg',\n",
       "       '2900_right.jpg', '3040_right.jpg', '61_right.jpg',\n",
       "       '3018_right.jpg', '2629_right.jpg', '2849_right.jpg',\n",
       "       '2556_right.jpg', '696_right.jpg', '2714_right.jpg',\n",
       "       '2857_right.jpg', '918_right.jpg', '2978_right.jpg',\n",
       "       '638_right.jpg', '2372_right.jpg', '3222_right.jpg',\n",
       "       '208_right.jpg', '287_right.jpg', '2496_right.jpg',\n",
       "       '2914_right.jpg', '951_right.jpg', '3096_right.jpg',\n",
       "       '1039_right.jpg', '2925_right.jpg', '3246_right.jpg',\n",
       "       '3293_right.jpg', '689_right.jpg', '2339_right.jpg',\n",
       "       '2772_right.jpg', '4239_right.jpg', '2985_right.jpg',\n",
       "       '2807_right.jpg', '2872_right.jpg', '3167_right.jpg',\n",
       "       '618_right.jpg', '1114_right.jpg', '3444_right.jpg',\n",
       "       '3368_right.jpg', '2962_right.jpg', '2532_right.jpg',\n",
       "       '2563_right.jpg', '3387_right.jpg', '2783_right.jpg',\n",
       "       '481_right.jpg', '3335_right.jpg', '2406_right.jpg',\n",
       "       '2522_right.jpg', '2540_right.jpg', '3198_right.jpg',\n",
       "       '2612_right.jpg', '121_right.jpg', '2493_right.jpg',\n",
       "       '3203_right.jpg', '1072_right.jpg', '3257_right.jpg',\n",
       "       '3202_right.jpg', '3088_right.jpg', '3150_right.jpg',\n",
       "       '2528_right.jpg', '2815_right.jpg', '4528_right.jpg',\n",
       "       '1186_right.jpg', '2851_right.jpg', '2396_right.jpg',\n",
       "       '2787_right.jpg', '2443_right.jpg', '191_right.jpg',\n",
       "       '2846_right.jpg', '2510_right.jpg', '3149_right.jpg',\n",
       "       '200_right.jpg', '4074_right.jpg', '3445_right.jpg',\n",
       "       '3419_right.jpg', '965_right.jpg', '3227_right.jpg',\n",
       "       '3180_right.jpg', '2678_right.jpg', '2950_right.jpg',\n",
       "       '2672_right.jpg', '3063_right.jpg', '3374_right.jpg',\n",
       "       '2545_right.jpg', '3274_right.jpg', '2573_right.jpg',\n",
       "       '2371_right.jpg', '2782_right.jpg', '2479_right.jpg',\n",
       "       '2658_right.jpg', '4163_right.jpg', '2989_right.jpg',\n",
       "       '205_right.jpg', '3116_right.jpg', '2911_right.jpg',\n",
       "       '3234_right.jpg', '73_right.jpg', '2953_right.jpg',\n",
       "       '4354_right.jpg', '2771_right.jpg', '3328_right.jpg',\n",
       "       '2615_right.jpg', '2799_right.jpg', '2712_right.jpg',\n",
       "       '3288_right.jpg', '2475_right.jpg', '3376_right.jpg',\n",
       "       '2852_right.jpg', '2999_right.jpg', '3111_right.jpg',\n",
       "       '1195_right.jpg', '3229_right.jpg', '807_right.jpg',\n",
       "       '2372_right.jpg', '1034_right.jpg', '919_right.jpg',\n",
       "       '3960_right.jpg', '2643_right.jpg', '2886_right.jpg',\n",
       "       '2492_right.jpg', '2776_right.jpg', '2805_right.jpg',\n",
       "       '2570_right.jpg', '2353_right.jpg', '3078_right.jpg',\n",
       "       '501_right.jpg', '2524_right.jpg', '3170_right.jpg',\n",
       "       '2828_right.jpg', '780_right.jpg', '2592_right.jpg',\n",
       "       '2967_right.jpg', '1429_right.jpg', '4644_right.jpg',\n",
       "       '47_right.jpg', '1498_right.jpg', '2507_right.jpg',\n",
       "       '4408_right.jpg', '3128_right.jpg', '3327_right.jpg',\n",
       "       '1034_right.jpg', '987_right.jpg', '2659_right.jpg',\n",
       "       '2579_right.jpg', '4671_right.jpg', '3348_right.jpg',\n",
       "       '4408_right.jpg', '1428_right.jpg', '2708_right.jpg',\n",
       "       '2976_right.jpg', '2535_right.jpg', '3378_right.jpg',\n",
       "       '2895_right.jpg', '2548_right.jpg', '3111_right.jpg',\n",
       "       '2942_right.jpg', '2671_right.jpg', '3201_right.jpg',\n",
       "       '912_right.jpg', '2369_right.jpg', '2466_right.jpg',\n",
       "       '2979_right.jpg', '3048_right.jpg', '3403_right.jpg',\n",
       "       '669_right.jpg', '1061_right.jpg', '3256_right.jpg',\n",
       "       '2991_right.jpg', '4156_right.jpg', '3057_right.jpg',\n",
       "       '2340_right.jpg', '1075_right.jpg', '3131_right.jpg',\n",
       "       '3389_right.jpg', '3248_right.jpg', '2974_right.jpg',\n",
       "       '3052_right.jpg', '2547_right.jpg', '3273_right.jpg',\n",
       "       '2635_right.jpg', '3179_right.jpg', '3393_right.jpg',\n",
       "       '486_right.jpg', '3399_right.jpg', '2915_right.jpg',\n",
       "       '3485_right.jpg', '4476_right.jpg', '3188_right.jpg',\n",
       "       '717_right.jpg', '1142_right.jpg', '2521_right.jpg',\n",
       "       '4415_right.jpg', '2714_right.jpg', '2996_right.jpg',\n",
       "       '3416_right.jpg', '3092_right.jpg', '2878_right.jpg',\n",
       "       '3290_right.jpg', '2646_right.jpg', '2425_right.jpg',\n",
       "       '2779_right.jpg', '3260_right.jpg', '2555_right.jpg'], dtype=object)"
      ]
     },
     "execution_count": 96,
     "metadata": {},
     "output_type": "execute_result"
    }
   ],
   "source": [
    "normal"
   ]
  },
  {
   "cell_type": "code",
   "execution_count": 97,
   "id": "eb3df31c",
   "metadata": {},
   "outputs": [
    {
     "data": {
      "text/plain": [
       "array(['0_left.jpg', '81_left.jpg', '103_left.jpg', '119_left.jpg',\n",
       "       '254_left.jpg', '294_left.jpg', '330_left.jpg', '448_left.jpg',\n",
       "       '465_left.jpg', '477_left.jpg', '553_left.jpg', '560_left.jpg',\n",
       "       '594_left.jpg', '611_left.jpg', '625_left.jpg', '629_left.jpg',\n",
       "       '691_left.jpg', '726_left.jpg', '750_left.jpg', '809_left.jpg',\n",
       "       '820_left.jpg', '824_left.jpg', '874_left.jpg', '907_left.jpg',\n",
       "       '970_left.jpg', '999_left.jpg', '1083_left.jpg', '1102_left.jpg',\n",
       "       '1115_left.jpg', '1144_left.jpg', '1164_left.jpg', '1285_left.jpg',\n",
       "       '1415_left.jpg', '1435_left.jpg', '1444_left.jpg', '1452_left.jpg',\n",
       "       '1468_left.jpg', '1483_left.jpg', '1484_left.jpg', '1987_left.jpg',\n",
       "       '1994_left.jpg', '2052_left.jpg', '2098_left.jpg', '2099_left.jpg',\n",
       "       '2101_left.jpg', '2102_left.jpg', '2103_left.jpg', '2104_left.jpg',\n",
       "       '2105_left.jpg', '2108_left.jpg', '2109_left.jpg', '2110_left.jpg',\n",
       "       '2111_left.jpg', '2113_left.jpg', '2114_left.jpg', '2116_left.jpg',\n",
       "       '2117_left.jpg', '2120_left.jpg', '2121_left.jpg', '2122_left.jpg',\n",
       "       '2123_left.jpg', '2124_left.jpg', '2125_left.jpg', '2126_left.jpg',\n",
       "       '2127_left.jpg', '2128_left.jpg', '2129_left.jpg', '2130_left.jpg',\n",
       "       '2132_left.jpg', '2133_left.jpg', '2134_left.jpg', '2135_left.jpg',\n",
       "       '2136_left.jpg', '2137_left.jpg', '2138_left.jpg', '2140_left.jpg',\n",
       "       '2142_left.jpg', '2144_left.jpg', '2145_left.jpg', '2146_left.jpg',\n",
       "       '2147_left.jpg', '2150_left.jpg', '2151_left.jpg', '2152_left.jpg',\n",
       "       '2153_left.jpg', '2154_left.jpg', '2155_left.jpg', '2156_left.jpg',\n",
       "       '2157_left.jpg', '2158_left.jpg', '2163_left.jpg', '2164_left.jpg',\n",
       "       '2166_left.jpg', '2167_left.jpg', '2168_left.jpg', '2169_left.jpg',\n",
       "       '2170_left.jpg', '2171_left.jpg', '2172_left.jpg', '2175_left.jpg',\n",
       "       '2176_left.jpg', '2178_left.jpg', '2179_left.jpg', '2180_left.jpg',\n",
       "       '2181_left.jpg', '2182_left.jpg', '2183_left.jpg', '2184_left.jpg',\n",
       "       '2185_left.jpg', '2189_left.jpg', '2192_left.jpg', '2194_left.jpg',\n",
       "       '2195_left.jpg', '2198_left.jpg', '2199_left.jpg', '2200_left.jpg',\n",
       "       '2203_left.jpg', '2204_left.jpg', '2206_left.jpg', '2207_left.jpg',\n",
       "       '2209_left.jpg', '2210_left.jpg', '2211_left.jpg', '2212_left.jpg',\n",
       "       '2213_left.jpg', '2215_left.jpg', '2216_left.jpg', '2217_left.jpg',\n",
       "       '2219_left.jpg', '2221_left.jpg', '2222_left.jpg', '2223_left.jpg',\n",
       "       '2225_left.jpg', '2226_left.jpg', '2227_left.jpg', '2231_left.jpg',\n",
       "       '2232_left.jpg', '2233_left.jpg', '2234_left.jpg', '2235_left.jpg',\n",
       "       '2236_left.jpg', '2239_left.jpg', '2240_left.jpg', '2242_left.jpg',\n",
       "       '2243_left.jpg', '2244_left.jpg', '2246_left.jpg', '2247_left.jpg',\n",
       "       '2248_left.jpg', '2251_left.jpg', '2262_left.jpg', '0_left.jpg',\n",
       "       '81_left.jpg', '103_left.jpg', '119_left.jpg', '254_left.jpg',\n",
       "       '294_left.jpg', '330_left.jpg', '448_left.jpg', '465_left.jpg',\n",
       "       '477_left.jpg', '553_left.jpg', '560_left.jpg', '594_left.jpg',\n",
       "       '611_left.jpg', '625_left.jpg', '629_left.jpg', '691_left.jpg',\n",
       "       '726_left.jpg', '750_left.jpg', '809_left.jpg', '820_left.jpg',\n",
       "       '824_left.jpg', '874_left.jpg', '907_left.jpg', '970_left.jpg',\n",
       "       '999_left.jpg', '1083_left.jpg', '1102_left.jpg', '1115_left.jpg',\n",
       "       '1144_left.jpg', '1164_left.jpg', '1285_left.jpg', '1415_left.jpg',\n",
       "       '1435_left.jpg', '1444_left.jpg', '1452_left.jpg', '1456_left.jpg',\n",
       "       '1468_left.jpg', '1483_left.jpg', '1484_left.jpg', '1968_left.jpg',\n",
       "       '1987_left.jpg', '1994_left.jpg', '2052_left.jpg', '2098_left.jpg',\n",
       "       '2099_left.jpg', '2101_left.jpg', '2103_left.jpg', '2104_left.jpg',\n",
       "       '2105_left.jpg', '2107_left.jpg', '2108_left.jpg', '2109_left.jpg',\n",
       "       '2110_left.jpg', '2111_left.jpg', '2113_left.jpg', '2114_left.jpg',\n",
       "       '2116_left.jpg', '2117_left.jpg', '2120_left.jpg', '2121_left.jpg',\n",
       "       '2122_left.jpg', '2123_left.jpg', '2124_left.jpg', '2125_left.jpg',\n",
       "       '2126_left.jpg', '2127_left.jpg', '2128_left.jpg', '2129_left.jpg',\n",
       "       '2130_left.jpg', '2132_left.jpg', '2133_left.jpg', '2134_left.jpg',\n",
       "       '2135_left.jpg', '2136_left.jpg', '2137_left.jpg', '2138_left.jpg',\n",
       "       '2140_left.jpg', '2142_left.jpg', '2144_left.jpg', '2145_left.jpg',\n",
       "       '2146_left.jpg', '2147_left.jpg', '2150_left.jpg', '2151_left.jpg',\n",
       "       '2152_left.jpg', '2153_left.jpg', '2154_left.jpg', '2155_left.jpg',\n",
       "       '2156_left.jpg', '2157_left.jpg', '2158_left.jpg', '2159_left.jpg',\n",
       "       '2163_left.jpg', '2164_left.jpg', '2166_left.jpg', '2167_left.jpg',\n",
       "       '2168_left.jpg', '2169_left.jpg', '2170_left.jpg', '2171_left.jpg',\n",
       "       '2172_left.jpg', '2175_left.jpg', '2176_left.jpg', '2178_left.jpg',\n",
       "       '2179_left.jpg', '2180_left.jpg', '2181_left.jpg', '2182_left.jpg',\n",
       "       '2183_left.jpg', '2184_left.jpg', '2185_left.jpg', '2189_left.jpg',\n",
       "       '2192_left.jpg', '2194_left.jpg', '2195_left.jpg', '2198_left.jpg',\n",
       "       '2199_left.jpg', '2200_left.jpg', '2203_left.jpg', '2204_left.jpg',\n",
       "       '2206_left.jpg', '2207_left.jpg', '2209_left.jpg', '2210_left.jpg',\n",
       "       '2211_left.jpg', '2212_left.jpg', '2213_left.jpg', '2215_left.jpg',\n",
       "       '2216_left.jpg', '2217_left.jpg', '2219_left.jpg', '2221_left.jpg',\n",
       "       '2222_left.jpg', '2223_left.jpg', '2225_left.jpg', '2226_left.jpg',\n",
       "       '2227_left.jpg', '2229_left.jpg', '2232_left.jpg', '2233_left.jpg',\n",
       "       '2234_left.jpg', '2235_left.jpg', '2236_left.jpg', '2239_left.jpg',\n",
       "       '2240_left.jpg', '2241_left.jpg', '2242_left.jpg', '2243_left.jpg',\n",
       "       '2246_left.jpg', '2247_left.jpg', '2248_left.jpg', '2262_left.jpg',\n",
       "       '24_right.jpg', '81_right.jpg', '112_right.jpg', '188_right.jpg',\n",
       "       '218_right.jpg', '345_right.jpg', '354_right.jpg', '477_right.jpg',\n",
       "       '553_right.jpg', '560_right.jpg', '625_right.jpg', '726_right.jpg',\n",
       "       '769_right.jpg', '949_right.jpg', '955_right.jpg', '970_right.jpg',\n",
       "       '999_right.jpg', '1062_right.jpg', '1084_right.jpg',\n",
       "       '1102_right.jpg', '1126_right.jpg', '1144_right.jpg',\n",
       "       '1167_right.jpg', '1415_right.jpg', '1454_right.jpg',\n",
       "       '1460_right.jpg', '1483_right.jpg', '1484_right.jpg',\n",
       "       '1490_right.jpg', '2052_right.jpg', '2074_right.jpg',\n",
       "       '2095_right.jpg', '2096_right.jpg', '2097_right.jpg',\n",
       "       '2098_right.jpg', '2100_right.jpg', '2101_right.jpg',\n",
       "       '2102_right.jpg', '2103_right.jpg', '2104_right.jpg',\n",
       "       '2105_right.jpg', '2106_right.jpg', '2108_right.jpg',\n",
       "       '2109_right.jpg', '2110_right.jpg', '2112_right.jpg',\n",
       "       '2113_right.jpg', '2114_right.jpg', '2115_right.jpg',\n",
       "       '2116_right.jpg', '2118_right.jpg', '2119_right.jpg',\n",
       "       '2120_right.jpg', '2122_right.jpg', '2126_right.jpg',\n",
       "       '2127_right.jpg', '2128_right.jpg', '2129_right.jpg',\n",
       "       '2130_right.jpg', '2133_right.jpg', '2134_right.jpg',\n",
       "       '2135_right.jpg', '2137_right.jpg', '2138_right.jpg',\n",
       "       '2139_right.jpg', '2140_right.jpg', '2141_right.jpg',\n",
       "       '2142_right.jpg', '2143_right.jpg', '2144_right.jpg',\n",
       "       '2146_right.jpg', '2149_right.jpg', '2150_right.jpg',\n",
       "       '2151_right.jpg', '2153_right.jpg', '2155_right.jpg',\n",
       "       '2157_right.jpg', '2158_right.jpg', '2160_right.jpg',\n",
       "       '2161_right.jpg', '2162_right.jpg', '2163_right.jpg',\n",
       "       '2164_right.jpg', '2165_right.jpg', '2167_right.jpg',\n",
       "       '2168_right.jpg', '2169_right.jpg', '2170_right.jpg',\n",
       "       '2173_right.jpg', '2174_right.jpg', '2176_right.jpg',\n",
       "       '2177_right.jpg', '2178_right.jpg', '2179_right.jpg',\n",
       "       '2180_right.jpg', '2181_right.jpg', '2182_right.jpg',\n",
       "       '2183_right.jpg', '2184_right.jpg', '2187_right.jpg',\n",
       "       '2189_right.jpg', '2190_right.jpg', '2191_right.jpg',\n",
       "       '2192_right.jpg', '2193_right.jpg', '2194_right.jpg',\n",
       "       '2195_right.jpg', '2196_right.jpg', '2197_right.jpg',\n",
       "       '2198_right.jpg', '2201_right.jpg', '2203_right.jpg',\n",
       "       '2205_right.jpg', '2206_right.jpg', '2207_right.jpg',\n",
       "       '2208_right.jpg', '2209_right.jpg', '2210_right.jpg',\n",
       "       '2211_right.jpg', '2212_right.jpg', '2213_right.jpg',\n",
       "       '2216_right.jpg', '2217_right.jpg', '2218_right.jpg',\n",
       "       '2219_right.jpg', '2220_right.jpg', '2221_right.jpg',\n",
       "       '2223_right.jpg', '2225_right.jpg', '2226_right.jpg',\n",
       "       '2227_right.jpg', '2228_right.jpg', '2231_right.jpg',\n",
       "       '2232_right.jpg', '2233_right.jpg', '2234_right.jpg',\n",
       "       '2236_right.jpg', '2237_right.jpg', '2239_right.jpg',\n",
       "       '2240_right.jpg', '2242_right.jpg', '2243_right.jpg',\n",
       "       '2244_right.jpg', '2246_right.jpg', '2247_right.jpg',\n",
       "       '2248_right.jpg', '2251_right.jpg', '2282_right.jpg',\n",
       "       '24_right.jpg', '81_right.jpg', '112_right.jpg', '218_right.jpg',\n",
       "       '345_right.jpg', '354_right.jpg', '477_right.jpg', '553_right.jpg',\n",
       "       '560_right.jpg', '625_right.jpg', '726_right.jpg', '769_right.jpg',\n",
       "       '949_right.jpg', '970_right.jpg', '999_right.jpg',\n",
       "       '1084_right.jpg', '1102_right.jpg', '1126_right.jpg',\n",
       "       '1144_right.jpg', '1167_right.jpg', '1415_right.jpg',\n",
       "       '1454_right.jpg', '1456_right.jpg', '1460_right.jpg',\n",
       "       '1483_right.jpg', '1484_right.jpg', '1490_right.jpg',\n",
       "       '2052_right.jpg', '2074_right.jpg', '2095_right.jpg',\n",
       "       '2096_right.jpg', '2097_right.jpg', '2098_right.jpg',\n",
       "       '2100_right.jpg', '2101_right.jpg', '2103_right.jpg',\n",
       "       '2104_right.jpg', '2105_right.jpg', '2106_right.jpg',\n",
       "       '2108_right.jpg', '2109_right.jpg', '2110_right.jpg',\n",
       "       '2112_right.jpg', '2113_right.jpg', '2114_right.jpg',\n",
       "       '2115_right.jpg', '2116_right.jpg', '2118_right.jpg',\n",
       "       '2119_right.jpg', '2120_right.jpg', '2122_right.jpg',\n",
       "       '2126_right.jpg', '2127_right.jpg', '2128_right.jpg',\n",
       "       '2129_right.jpg', '2130_right.jpg', '2133_right.jpg',\n",
       "       '2134_right.jpg', '2135_right.jpg', '2137_right.jpg',\n",
       "       '2138_right.jpg', '2140_right.jpg', '2141_right.jpg',\n",
       "       '2142_right.jpg', '2143_right.jpg', '2144_right.jpg',\n",
       "       '2146_right.jpg', '2149_right.jpg', '2150_right.jpg',\n",
       "       '2151_right.jpg', '2153_right.jpg', '2155_right.jpg',\n",
       "       '2157_right.jpg', '2158_right.jpg', '2160_right.jpg',\n",
       "       '2161_right.jpg', '2162_right.jpg', '2163_right.jpg',\n",
       "       '2164_right.jpg', '2165_right.jpg', '2167_right.jpg',\n",
       "       '2168_right.jpg', '2169_right.jpg', '2170_right.jpg',\n",
       "       '2173_right.jpg', '2174_right.jpg', '2176_right.jpg',\n",
       "       '2177_right.jpg', '2178_right.jpg', '2179_right.jpg',\n",
       "       '2180_right.jpg', '2181_right.jpg', '2182_right.jpg',\n",
       "       '2183_right.jpg', '2184_right.jpg', '2187_right.jpg',\n",
       "       '2189_right.jpg', '2190_right.jpg', '2191_right.jpg',\n",
       "       '2192_right.jpg', '2193_right.jpg', '2194_right.jpg',\n",
       "       '2195_right.jpg', '2196_right.jpg', '2197_right.jpg',\n",
       "       '2198_right.jpg', '2201_right.jpg', '2203_right.jpg',\n",
       "       '2205_right.jpg', '2206_right.jpg', '2207_right.jpg',\n",
       "       '2208_right.jpg', '2209_right.jpg', '2210_right.jpg',\n",
       "       '2211_right.jpg', '2212_right.jpg', '2213_right.jpg',\n",
       "       '2216_right.jpg', '2217_right.jpg', '2218_right.jpg',\n",
       "       '2219_right.jpg', '2220_right.jpg', '2221_right.jpg',\n",
       "       '2223_right.jpg', '2225_right.jpg', '2226_right.jpg',\n",
       "       '2227_right.jpg', '2228_right.jpg', '2229_right.jpg',\n",
       "       '2232_right.jpg', '2233_right.jpg', '2234_right.jpg',\n",
       "       '2236_right.jpg', '2237_right.jpg', '2239_right.jpg',\n",
       "       '2240_right.jpg', '2242_right.jpg', '2243_right.jpg',\n",
       "       '2246_right.jpg', '2247_right.jpg', '2248_right.jpg',\n",
       "       '2282_right.jpg'], dtype=object)"
      ]
     },
     "execution_count": 97,
     "metadata": {},
     "output_type": "execute_result"
    }
   ],
   "source": [
    "cataract"
   ]
  },
  {
   "cell_type": "code",
   "execution_count": 98,
   "id": "2fbc5ef8",
   "metadata": {},
   "outputs": [
    {
     "data": {
      "text/plain": [
       "array(['95_left.jpg', '153_left.jpg', '167_left.jpg', '178_left.jpg',\n",
       "       '247_left.jpg', '365_left.jpg', '583_left.jpg', '625_left.jpg',\n",
       "       '746_left.jpg', '931_left.jpg', '1209_left.jpg', '1210_left.jpg',\n",
       "       '1211_left.jpg', '1212_left.jpg', '1213_left.jpg', '1214_left.jpg',\n",
       "       '1215_left.jpg', '1216_left.jpg', '1217_left.jpg', '1218_left.jpg',\n",
       "       '1220_left.jpg', '1221_left.jpg', '1222_left.jpg', '1225_left.jpg',\n",
       "       '1226_left.jpg', '1227_left.jpg', '1229_left.jpg', '1230_left.jpg',\n",
       "       '1231_left.jpg', '1232_left.jpg', '1234_left.jpg', '1237_left.jpg',\n",
       "       '1239_left.jpg', '1241_left.jpg', '1246_left.jpg', '1247_left.jpg',\n",
       "       '1248_left.jpg', '1250_left.jpg', '1251_left.jpg', '1255_left.jpg',\n",
       "       '1256_left.jpg', '1258_left.jpg', '1259_left.jpg', '1260_left.jpg',\n",
       "       '1261_left.jpg', '1264_left.jpg', '1265_left.jpg', '1266_left.jpg',\n",
       "       '1267_left.jpg', '1268_left.jpg', '1269_left.jpg', '1270_left.jpg',\n",
       "       '1271_left.jpg', '1272_left.jpg', '1276_left.jpg', '1277_left.jpg',\n",
       "       '1279_left.jpg', '1280_left.jpg', '1281_left.jpg', '1282_left.jpg',\n",
       "       '1284_left.jpg', '1286_left.jpg', '1287_left.jpg', '1288_left.jpg',\n",
       "       '1289_left.jpg', '1290_left.jpg', '1291_left.jpg', '1294_left.jpg',\n",
       "       '1297_left.jpg', '1301_left.jpg', '1302_left.jpg', '1303_left.jpg',\n",
       "       '1306_left.jpg', '1307_left.jpg', '1309_left.jpg', '1314_left.jpg',\n",
       "       '1318_left.jpg', '1325_left.jpg', '1327_left.jpg', '1330_left.jpg',\n",
       "       '1334_left.jpg', '1344_left.jpg', '1345_left.jpg', '1351_left.jpg',\n",
       "       '1352_left.jpg', '1353_left.jpg', '1362_left.jpg', '1365_left.jpg',\n",
       "       '1371_left.jpg', '1374_left.jpg', '1378_left.jpg', '1383_left.jpg',\n",
       "       '1386_left.jpg', '1389_left.jpg', '1392_left.jpg', '1396_left.jpg',\n",
       "       '1397_left.jpg', '1402_left.jpg', '1404_left.jpg', '1405_left.jpg',\n",
       "       '1406_left.jpg', '1410_left.jpg', '1411_left.jpg', '1412_left.jpg',\n",
       "       '1414_left.jpg', '1418_left.jpg', '1419_left.jpg', '1421_left.jpg',\n",
       "       '1423_left.jpg', '1424_left.jpg', '1426_left.jpg', '1428_left.jpg',\n",
       "       '1429_left.jpg', '1431_left.jpg', '1433_left.jpg', '1434_left.jpg',\n",
       "       '1436_left.jpg', '1439_left.jpg', '1440_left.jpg', '1441_left.jpg',\n",
       "       '1443_left.jpg', '1447_left.jpg', '1450_left.jpg', '1458_left.jpg',\n",
       "       '1462_left.jpg', '1469_left.jpg', '1470_left.jpg', '1471_left.jpg',\n",
       "       '1473_left.jpg', '1474_left.jpg', '1475_left.jpg', '1477_left.jpg',\n",
       "       '1478_left.jpg', '1479_left.jpg', '1482_left.jpg', '1486_left.jpg',\n",
       "       '1487_left.jpg', '1488_left.jpg', '1489_left.jpg', '1491_left.jpg',\n",
       "       '1492_left.jpg', '1493_left.jpg', '1494_left.jpg', '1495_left.jpg',\n",
       "       '1497_left.jpg', '1498_left.jpg', '1514_left.jpg', '1515_left.jpg',\n",
       "       '1865_left.jpg', '1881_left.jpg', '1959_left.jpg', '1964_left.jpg',\n",
       "       '1967_left.jpg', '1970_left.jpg', '1971_left.jpg', '1975_left.jpg',\n",
       "       '1977_left.jpg', '1985_left.jpg', '1986_left.jpg', '2006_left.jpg',\n",
       "       '2020_left.jpg', '2030_left.jpg', '2063_left.jpg', '2074_left.jpg',\n",
       "       '95_left.jpg', '153_left.jpg', '167_left.jpg', '178_left.jpg',\n",
       "       '247_left.jpg', '365_left.jpg', '583_left.jpg', '625_left.jpg',\n",
       "       '746_left.jpg', '931_left.jpg', '1020_left.jpg', '1209_left.jpg',\n",
       "       '1210_left.jpg', '1211_left.jpg', '1212_left.jpg', '1213_left.jpg',\n",
       "       '1214_left.jpg', '1215_left.jpg', '1216_left.jpg', '1217_left.jpg',\n",
       "       '1218_left.jpg', '1220_left.jpg', '1221_left.jpg', '1222_left.jpg',\n",
       "       '1225_left.jpg', '1226_left.jpg', '1227_left.jpg', '1228_left.jpg',\n",
       "       '1229_left.jpg', '1230_left.jpg', '1231_left.jpg', '1232_left.jpg',\n",
       "       '1234_left.jpg', '1237_left.jpg', '1239_left.jpg', '1241_left.jpg',\n",
       "       '1246_left.jpg', '1247_left.jpg', '1248_left.jpg', '1250_left.jpg',\n",
       "       '1251_left.jpg', '1255_left.jpg', '1256_left.jpg', '1258_left.jpg',\n",
       "       '1259_left.jpg', '1260_left.jpg', '1261_left.jpg', '1264_left.jpg',\n",
       "       '1265_left.jpg', '1266_left.jpg', '1267_left.jpg', '1268_left.jpg',\n",
       "       '1269_left.jpg', '1270_left.jpg', '1271_left.jpg', '1272_left.jpg',\n",
       "       '1276_left.jpg', '1277_left.jpg', '1279_left.jpg', '1280_left.jpg',\n",
       "       '1281_left.jpg', '1282_left.jpg', '1284_left.jpg', '1286_left.jpg',\n",
       "       '1287_left.jpg', '1288_left.jpg', '1289_left.jpg', '1290_left.jpg',\n",
       "       '1291_left.jpg', '1294_left.jpg', '1297_left.jpg', '1301_left.jpg',\n",
       "       '1302_left.jpg', '1303_left.jpg', '1306_left.jpg', '1307_left.jpg',\n",
       "       '1309_left.jpg', '1314_left.jpg', '1318_left.jpg', '1325_left.jpg',\n",
       "       '1327_left.jpg', '1330_left.jpg', '1334_left.jpg', '1344_left.jpg',\n",
       "       '1345_left.jpg', '1351_left.jpg', '1352_left.jpg', '1353_left.jpg',\n",
       "       '1362_left.jpg', '1365_left.jpg', '1369_left.jpg', '1371_left.jpg',\n",
       "       '1374_left.jpg', '1378_left.jpg', '1383_left.jpg', '1386_left.jpg',\n",
       "       '1389_left.jpg', '1392_left.jpg', '1396_left.jpg', '1397_left.jpg',\n",
       "       '1402_left.jpg', '1404_left.jpg', '1405_left.jpg', '1406_left.jpg',\n",
       "       '1410_left.jpg', '1411_left.jpg', '1414_left.jpg', '1418_left.jpg',\n",
       "       '1419_left.jpg', '1421_left.jpg', '1423_left.jpg', '1424_left.jpg',\n",
       "       '1426_left.jpg', '1428_left.jpg', '1429_left.jpg', '1431_left.jpg',\n",
       "       '1433_left.jpg', '1434_left.jpg', '1436_left.jpg', '1439_left.jpg',\n",
       "       '1440_left.jpg', '1441_left.jpg', '1442_left.jpg', '1443_left.jpg',\n",
       "       '1447_left.jpg', '1450_left.jpg', '1458_left.jpg', '1462_left.jpg',\n",
       "       '1469_left.jpg', '1470_left.jpg', '1471_left.jpg', '1473_left.jpg',\n",
       "       '1474_left.jpg', '1477_left.jpg', '1478_left.jpg', '1479_left.jpg',\n",
       "       '1482_left.jpg', '1486_left.jpg', '1487_left.jpg', '1488_left.jpg',\n",
       "       '1489_left.jpg', '1491_left.jpg', '1492_left.jpg', '1493_left.jpg',\n",
       "       '1494_left.jpg', '1495_left.jpg', '1497_left.jpg', '1498_left.jpg',\n",
       "       '1514_left.jpg', '1515_left.jpg', '1881_left.jpg', '1959_left.jpg',\n",
       "       '1964_left.jpg', '1965_left.jpg', '1967_left.jpg', '1970_left.jpg',\n",
       "       '1971_left.jpg', '1975_left.jpg', '1977_left.jpg', '1985_left.jpg',\n",
       "       '1986_left.jpg', '2006_left.jpg', '2010_left.jpg', '2020_left.jpg',\n",
       "       '2030_left.jpg', '2041_left.jpg', '2063_left.jpg', '2074_left.jpg',\n",
       "       '43_left.jpg', '167_left.jpg', '238_left.jpg', '247_left.jpg',\n",
       "       '365_left.jpg', '583_left.jpg', '746_left.jpg', '931_left.jpg',\n",
       "       '1209_left.jpg', '1210_left.jpg', '1211_left.jpg', '1212_left.jpg',\n",
       "       '1213_left.jpg', '1214_left.jpg', '1215_left.jpg', '1216_left.jpg',\n",
       "       '1217_left.jpg', '1218_left.jpg', '1220_left.jpg', '1221_left.jpg',\n",
       "       '1222_left.jpg', '1225_left.jpg', '1226_left.jpg', '1227_left.jpg',\n",
       "       '1229_left.jpg', '1230_left.jpg', '1231_left.jpg', '1232_left.jpg',\n",
       "       '1234_left.jpg', '1237_left.jpg', '1238_left.jpg', '1239_left.jpg',\n",
       "       '1241_left.jpg', '1243_left.jpg', '1246_left.jpg', '1247_left.jpg',\n",
       "       '1248_left.jpg', '1251_left.jpg', '1254_left.jpg', '1255_left.jpg',\n",
       "       '1256_left.jpg', '1258_left.jpg', '1259_left.jpg', '1260_left.jpg',\n",
       "       '1261_left.jpg', '1262_left.jpg', '1263_left.jpg', '1265_left.jpg',\n",
       "       '1266_left.jpg', '1267_left.jpg', '1268_left.jpg', '1269_left.jpg',\n",
       "       '1270_left.jpg', '1271_left.jpg', '1272_left.jpg', '1273_left.jpg',\n",
       "       '1276_left.jpg', '1277_left.jpg', '1279_left.jpg', '1281_left.jpg',\n",
       "       '1282_left.jpg', '1284_left.jpg', '1286_left.jpg', '1287_left.jpg',\n",
       "       '1288_left.jpg', '1289_left.jpg', '1290_left.jpg', '1291_left.jpg',\n",
       "       '1294_left.jpg', '1297_left.jpg', '1301_left.jpg', '1302_left.jpg',\n",
       "       '1306_left.jpg', '1307_left.jpg', '1309_left.jpg', '1314_left.jpg',\n",
       "       '1318_left.jpg', '1319_left.jpg', '1325_left.jpg', '1327_left.jpg',\n",
       "       '1330_left.jpg', '1334_left.jpg', '1344_left.jpg', '1345_left.jpg',\n",
       "       '1351_left.jpg', '1352_left.jpg', '1353_left.jpg', '1362_left.jpg',\n",
       "       '1365_left.jpg', '1371_left.jpg', '1374_left.jpg', '1377_left.jpg',\n",
       "       '1378_left.jpg', '1386_left.jpg', '1388_left.jpg', '1389_left.jpg',\n",
       "       '1392_left.jpg', '1393_left.jpg', '1408_left.jpg', '1409_left.jpg',\n",
       "       '1411_left.jpg', '1412_left.jpg', '1413_left.jpg', '1415_left.jpg',\n",
       "       '1416_left.jpg', '1417_left.jpg', '1420_left.jpg', '1425_left.jpg',\n",
       "       '1427_left.jpg', '1431_left.jpg', '1433_left.jpg', '1434_left.jpg',\n",
       "       '1436_left.jpg', '1440_left.jpg', '1443_left.jpg', '1453_left.jpg',\n",
       "       '1458_left.jpg', '1465_left.jpg', '1469_left.jpg', '1470_left.jpg',\n",
       "       '1473_left.jpg', '1476_left.jpg', '1477_left.jpg', '1480_left.jpg',\n",
       "       '1485_left.jpg', '1487_left.jpg', '1488_left.jpg', '1492_left.jpg',\n",
       "       '1495_left.jpg', '1496_left.jpg', '1497_left.jpg', '1503_left.jpg',\n",
       "       '1507_left.jpg', '1510_left.jpg', '1881_left.jpg', '1959_left.jpg',\n",
       "       '1963_left.jpg', '1967_left.jpg', '1977_left.jpg', '1990_left.jpg',\n",
       "       '1999_left.jpg', '2030_left.jpg', '2032_left.jpg', '2048_left.jpg',\n",
       "       '2063_left.jpg', '43_left.jpg', '167_left.jpg', '238_left.jpg',\n",
       "       '247_left.jpg', '365_left.jpg', '583_left.jpg', '746_left.jpg',\n",
       "       '931_left.jpg', '1209_left.jpg', '1210_left.jpg', '1211_left.jpg',\n",
       "       '1212_left.jpg', '1213_left.jpg', '1214_left.jpg', '1215_left.jpg',\n",
       "       '1216_left.jpg', '1217_left.jpg', '1218_left.jpg', '1220_left.jpg',\n",
       "       '1221_left.jpg', '1222_left.jpg', '1225_left.jpg', '1226_left.jpg',\n",
       "       '1227_left.jpg', '1229_left.jpg', '1230_left.jpg', '1231_left.jpg',\n",
       "       '1232_left.jpg', '1234_left.jpg', '1237_left.jpg', '1238_left.jpg',\n",
       "       '1239_left.jpg', '1241_left.jpg', '1246_left.jpg', '1247_left.jpg',\n",
       "       '1248_left.jpg', '1251_left.jpg', '1255_left.jpg', '1256_left.jpg',\n",
       "       '1258_left.jpg', '1259_left.jpg', '1260_left.jpg', '1261_left.jpg',\n",
       "       '1262_left.jpg', '1265_left.jpg', '1266_left.jpg', '1267_left.jpg',\n",
       "       '1268_left.jpg', '1269_left.jpg', '1270_left.jpg', '1271_left.jpg',\n",
       "       '1272_left.jpg', '1276_left.jpg', '1277_left.jpg', '1279_left.jpg',\n",
       "       '1281_left.jpg', '1282_left.jpg', '1284_left.jpg', '1286_left.jpg',\n",
       "       '1287_left.jpg', '1288_left.jpg', '1289_left.jpg', '1290_left.jpg',\n",
       "       '1291_left.jpg', '1294_left.jpg', '1297_left.jpg', '1301_left.jpg',\n",
       "       '1302_left.jpg', '1306_left.jpg', '1307_left.jpg', '1309_left.jpg',\n",
       "       '1314_left.jpg', '1318_left.jpg', '1325_left.jpg', '1327_left.jpg',\n",
       "       '1330_left.jpg', '1334_left.jpg', '1344_left.jpg', '1345_left.jpg',\n",
       "       '1351_left.jpg', '1352_left.jpg', '1353_left.jpg', '1362_left.jpg',\n",
       "       '1365_left.jpg', '1371_left.jpg', '1374_left.jpg', '1377_left.jpg',\n",
       "       '1378_left.jpg', '1386_left.jpg', '1388_left.jpg', '1389_left.jpg',\n",
       "       '1392_left.jpg', '1393_left.jpg', '1408_left.jpg', '1409_left.jpg',\n",
       "       '1411_left.jpg', '1413_left.jpg', '1415_left.jpg', '1416_left.jpg',\n",
       "       '1417_left.jpg', '1420_left.jpg', '1425_left.jpg', '1427_left.jpg',\n",
       "       '1431_left.jpg', '1433_left.jpg', '1434_left.jpg', '1436_left.jpg',\n",
       "       '1440_left.jpg', '1443_left.jpg', '1453_left.jpg', '1458_left.jpg',\n",
       "       '1465_left.jpg', '1469_left.jpg', '1470_left.jpg', '1473_left.jpg',\n",
       "       '1476_left.jpg', '1477_left.jpg', '1480_left.jpg', '1485_left.jpg',\n",
       "       '1487_left.jpg', '1488_left.jpg', '1492_left.jpg', '1495_left.jpg',\n",
       "       '1496_left.jpg', '1497_left.jpg', '1503_left.jpg', '1507_left.jpg',\n",
       "       '1510_left.jpg', '1881_left.jpg', '1959_left.jpg', '1963_left.jpg',\n",
       "       '1967_left.jpg', '1977_left.jpg', '1990_left.jpg', '1999_left.jpg',\n",
       "       '2030_left.jpg', '2032_left.jpg', '2048_left.jpg', '2063_left.jpg'],\n",
       "      dtype=object)"
      ]
     },
     "execution_count": 98,
     "metadata": {},
     "output_type": "execute_result"
    }
   ],
   "source": [
    "glaucoma"
   ]
  },
  {
   "cell_type": "code",
   "execution_count": 99,
   "id": "1d5918f8",
   "metadata": {},
   "outputs": [
    {
     "name": "stdout",
     "output_type": "stream",
     "text": [
      "594 616 500\n"
     ]
    }
   ],
   "source": [
    "print(len(cataract),len(glaucoma),len(normal))"
   ]
  },
  {
   "cell_type": "markdown",
   "id": "8806442e",
   "metadata": {},
   "source": [
    "## creating dataset from images"
   ]
  },
  {
   "cell_type": "code",
   "execution_count": 100,
   "id": "d96c79ea",
   "metadata": {},
   "outputs": [],
   "source": [
    "from tensorflow.keras.preprocessing.image import load_img,img_to_array\n",
    "import os\n",
    "\n",
    "dataset_dir = \"D:/Eye Disease/archive/preprocessed_images\"\n",
    "image_size=224\n",
    "labels = []\n",
    "dataset = []\n",
    "\n",
    "def create_dataset(image_category,label):\n",
    "    for img in tqdm(image_category):\n",
    "        image_path = os.path.join(dataset_dir,img)\n",
    "        try:\n",
    "            image = cv2.imread(image_path,cv2.IMREAD_COLOR)\n",
    "            image = cv2.resize(image,(image_size,image_size))\n",
    "        except:\n",
    "            continue\n",
    "        \n",
    "        dataset.append([np.array(image),np.array(label)])\n",
    "    random.shuffle(dataset)\n",
    "    return dataset"
   ]
  },
  {
   "cell_type": "code",
   "execution_count": 101,
   "id": "37853ad8",
   "metadata": {},
   "outputs": [
    {
     "name": "stderr",
     "output_type": "stream",
     "text": [
      "100%|███████████████████████████████████████████████████████████████████████████████| 594/594 [00:02<00:00, 230.62it/s]\n"
     ]
    }
   ],
   "source": [
    "dataset = create_dataset(cataract,1)"
   ]
  },
  {
   "cell_type": "code",
   "execution_count": 102,
   "id": "93db3d7f",
   "metadata": {},
   "outputs": [
    {
     "data": {
      "text/plain": [
       "588"
      ]
     },
     "execution_count": 102,
     "metadata": {},
     "output_type": "execute_result"
    }
   ],
   "source": [
    "len(dataset)"
   ]
  },
  {
   "cell_type": "code",
   "execution_count": 103,
   "id": "9781d850",
   "metadata": {},
   "outputs": [
    {
     "name": "stderr",
     "output_type": "stream",
     "text": [
      "100%|███████████████████████████████████████████████████████████████████████████████| 500/500 [00:02<00:00, 232.50it/s]\n"
     ]
    }
   ],
   "source": [
    "dataset = create_dataset(normal,0)"
   ]
  },
  {
   "cell_type": "code",
   "execution_count": 104,
   "id": "18892b5d",
   "metadata": {},
   "outputs": [
    {
     "data": {
      "text/plain": [
       "1088"
      ]
     },
     "execution_count": 104,
     "metadata": {},
     "output_type": "execute_result"
    }
   ],
   "source": [
    "len(dataset)"
   ]
  },
  {
   "cell_type": "code",
   "execution_count": 105,
   "id": "b1f3c1be",
   "metadata": {},
   "outputs": [
    {
     "name": "stderr",
     "output_type": "stream",
     "text": [
      "100%|███████████████████████████████████████████████████████████████████████████████| 616/616 [00:02<00:00, 247.32it/s]\n"
     ]
    }
   ],
   "source": [
    "dataset = create_dataset(glaucoma,2)"
   ]
  },
  {
   "cell_type": "code",
   "execution_count": 106,
   "id": "994d2f58",
   "metadata": {},
   "outputs": [
    {
     "data": {
      "text/plain": [
       "1695"
      ]
     },
     "execution_count": 106,
     "metadata": {},
     "output_type": "execute_result"
    }
   ],
   "source": [
    "len(dataset)"
   ]
  },
  {
   "cell_type": "code",
   "execution_count": 107,
   "id": "590bb496",
   "metadata": {},
   "outputs": [
    {
     "name": "stdout",
     "output_type": "stream",
     "text": [
      "783\n",
      "156\n",
      "1667\n",
      "1386\n",
      "824\n",
      "953\n",
      "641\n",
      "1658\n",
      "947\n",
      "596\n"
     ]
    },
    {
     "data": {
      "image/png": "[encoded data removed]",
      "text/plain": [
       "<Figure size 864x504 with 10 Axes>"
      ]
     },
     "metadata": {
      "needs_background": "light"
     },
     "output_type": "display_data"
    }
   ],
   "source": [
    "plt.figure(figsize=(12,7))\n",
    "for i in range(10):\n",
    "    sample = random.choice(range(len(dataset)))\n",
    "    print(sample)\n",
    "    image = dataset[sample][0]\n",
    "    category = dataset[sample][1]\n",
    "    if category== 0:\n",
    "        label = \"Normal\"\n",
    "    elif category==2:\n",
    "        label = \"Glaucoma\"\n",
    "    else:\n",
    "        label = \"Cataract\"\n",
    "    plt.subplot(3,5,i+1)\n",
    "    plt.imshow(image)\n",
    "    plt.xlabel(label)\n",
    "plt.tight_layout()"
   ]
  },
  {
   "cell_type": "code",
   "execution_count": 109,
   "id": "2e6c14fc",
   "metadata": {},
   "outputs": [],
   "source": [
    "x = np.array([i[0] for i in dataset]).reshape(-1,image_size,image_size,3)\n",
    "y = np.array([i[1] for i in dataset])"
   ]
  },
  {
   "cell_type": "code",
   "execution_count": 110,
   "id": "d2808df1",
   "metadata": {},
   "outputs": [],
   "source": [
    "from sklearn.model_selection import train_test_split\n",
    "x_train,x_test,y_train,y_test = train_test_split(x,y,test_size=0.2,random_state=42,stratify=y)"
   ]
  },
  {
   "cell_type": "code",
   "execution_count": 111,
   "id": "c03de3df",
   "metadata": {},
   "outputs": [],
   "source": [
    "from tensorflow.keras.applications.inception_v3 import InceptionV3\n",
    "from tensorflow.keras.applications.inception_v3 import preprocess_input\n",
    "from tensorflow.keras.applications.resnet50 import ResNet50\n",
    "\n",
    "InceptionV3 = ResNet50(weights=\"imagenet\",include_top = False,input_shape=(image_size,image_size,3))"
   ]
  },
  {
   "cell_type": "code",
   "execution_count": 112,
   "id": "146faefa",
   "metadata": {},
   "outputs": [],
   "source": [
    "for layer in InceptionV3.layers:\n",
    "    layer.trainable = False"
   ]
  },
  {
   "cell_type": "code",
   "execution_count": 113,
   "id": "12c328f4",
   "metadata": {},
   "outputs": [],
   "source": [
    "from tensorflow.keras import Sequential\n",
    "from tensorflow.keras.layers import Flatten,Dense\n",
    "model = Sequential()\n",
    "model.add(InceptionV3)\n",
    "model.add(Flatten())\n",
    "model.add(Dense(3,activation=\"softmax\"))"
   ]
  },
  {
   "cell_type": "code",
   "execution_count": 114,
   "id": "342ad303",
   "metadata": {},
   "outputs": [],
   "source": [
    "model2 = Sequential([\n",
    "    \n",
    "])"
   ]
  },
  {
   "cell_type": "code",
   "execution_count": 115,
   "id": "f38ef487",
   "metadata": {},
   "outputs": [
    {
     "name": "stdout",
     "output_type": "stream",
     "text": [
      "Model: \"sequential_3\"\n",
      "_________________________________________________________________\n",
      "Layer (type)                 Output Shape              Param #   \n",
      "=================================================================\n",
      "resnet50 (Functional)        (None, 7, 7, 2048)        23587712  \n",
      "_________________________________________________________________\n",
      "flatten_2 (Flatten)          (None, 100352)            0         \n",
      "_________________________________________________________________\n",
      "dense_2 (Dense)              (None, 3)                 301059    \n",
      "=================================================================\n",
      "Total params: 23,888,771\n",
      "Trainable params: 301,059\n",
      "Non-trainable params: 23,587,712\n",
      "_________________________________________________________________\n"
     ]
    }
   ],
   "source": [
    "model.summary()"
   ]
  },
  {
   "cell_type": "code",
   "execution_count": 116,
   "id": "aacc7d84",
   "metadata": {},
   "outputs": [],
   "source": [
    "model.compile(optimizer=\"adam\",loss=\"sparse_categorical_crossentropy\",metrics=[\"accuracy\"])"
   ]
  },
  {
   "cell_type": "code",
   "execution_count": 117,
   "id": "1715d2cb",
   "metadata": {},
   "outputs": [
    {
     "name": "stdout",
     "output_type": "stream",
     "text": [
      "Epoch 1/15\n",
      "43/43 [==============================] - 16s 236ms/step - loss: 6.2661 - accuracy: 0.6637 - val_loss: 3.1359 - val_accuracy: 0.8230\n",
      "Epoch 2/15\n",
      "43/43 [==============================] - 8s 182ms/step - loss: 0.8381 - accuracy: 0.9152 - val_loss: 1.4674 - val_accuracy: 0.8702\n",
      "Epoch 3/15\n",
      "43/43 [==============================] - 8s 183ms/step - loss: 0.5911 - accuracy: 0.9263 - val_loss: 2.1327 - val_accuracy: 0.8614\n",
      "Epoch 4/15\n",
      "43/43 [==============================] - 8s 182ms/step - loss: 0.5560 - accuracy: 0.9531 - val_loss: 1.8821 - val_accuracy: 0.8938\n",
      "Epoch 5/15\n",
      "43/43 [==============================] - 8s 183ms/step - loss: 0.2119 - accuracy: 0.9882 - val_loss: 1.4163 - val_accuracy: 0.9174\n",
      "Epoch 6/15\n",
      "43/43 [==============================] - 8s 184ms/step - loss: 0.1238 - accuracy: 0.9912 - val_loss: 1.9279 - val_accuracy: 0.8673\n",
      "Epoch 7/15\n",
      "43/43 [==============================] - 8s 184ms/step - loss: 0.2349 - accuracy: 0.9876 - val_loss: 1.5654 - val_accuracy: 0.9233\n",
      "Epoch 8/15\n",
      "43/43 [==============================] - 8s 183ms/step - loss: 0.4301 - accuracy: 0.9675 - val_loss: 1.3479 - val_accuracy: 0.9410\n",
      "Epoch 9/15\n",
      "43/43 [==============================] - 8s 183ms/step - loss: 0.3319 - accuracy: 0.9727 - val_loss: 1.2954 - val_accuracy: 0.9263\n",
      "Epoch 10/15\n",
      "43/43 [==============================] - 8s 183ms/step - loss: 0.1837 - accuracy: 0.9817 - val_loss: 2.6960 - val_accuracy: 0.8968\n",
      "Epoch 11/15\n",
      "43/43 [==============================] - 8s 183ms/step - loss: 0.4617 - accuracy: 0.9756 - val_loss: 1.6558 - val_accuracy: 0.9115\n",
      "Epoch 12/15\n",
      "43/43 [==============================] - 8s 184ms/step - loss: 0.1755 - accuracy: 0.9884 - val_loss: 1.5686 - val_accuracy: 0.9086\n",
      "Epoch 13/15\n",
      "43/43 [==============================] - 8s 183ms/step - loss: 0.1708 - accuracy: 0.9844 - val_loss: 2.6758 - val_accuracy: 0.8997\n",
      "Epoch 14/15\n",
      "43/43 [==============================] - 8s 182ms/step - loss: 0.2848 - accuracy: 0.9830 - val_loss: 2.2059 - val_accuracy: 0.9056\n",
      "Epoch 15/15\n",
      "43/43 [==============================] - 8s 182ms/step - loss: 0.1717 - accuracy: 0.9882 - val_loss: 2.5758 - val_accuracy: 0.9027\n"
     ]
    }
   ],
   "source": [
    "history = model.fit(x_train,y_train,batch_size=32,epochs=15,validation_data=(x_test,y_test),\n",
    "                    verbose=1)"
   ]
  },
  {
   "cell_type": "code",
   "execution_count": 159,
   "id": "9d3be8d1",
   "metadata": {},
   "outputs": [
    {
     "name": "stdout",
     "output_type": "stream",
     "text": [
      "Epoch 1/100\n",
      "43/43 [==============================] - 4s 77ms/step - loss: 102.8283 - accuracy: 0.4012 - val_loss: 0.9593 - val_accuracy: 0.5811\n",
      "Epoch 2/100\n",
      "43/43 [==============================] - 3s 74ms/step - loss: 0.9978 - accuracy: 0.5387 - val_loss: 0.9201 - val_accuracy: 0.6106\n",
      "Epoch 3/100\n",
      "43/43 [==============================] - 3s 74ms/step - loss: 0.9510 - accuracy: 0.5454 - val_loss: 0.9333 - val_accuracy: 0.5516\n",
      "Epoch 4/100\n",
      "43/43 [==============================] - 3s 74ms/step - loss: 0.8735 - accuracy: 0.6166 - val_loss: 0.7607 - val_accuracy: 0.6608\n",
      "Epoch 5/100\n",
      "43/43 [==============================] - 3s 74ms/step - loss: 0.7899 - accuracy: 0.6460 - val_loss: 0.6760 - val_accuracy: 0.6962\n",
      "Epoch 6/100\n",
      "43/43 [==============================] - 3s 74ms/step - loss: 0.7798 - accuracy: 0.6622 - val_loss: 0.7355 - val_accuracy: 0.6608\n",
      "Epoch 7/100\n",
      "43/43 [==============================] - 3s 74ms/step - loss: 0.7371 - accuracy: 0.6681 - val_loss: 0.6580 - val_accuracy: 0.7404\n",
      "Epoch 8/100\n",
      "43/43 [==============================] - 3s 74ms/step - loss: 0.7023 - accuracy: 0.6939 - val_loss: 0.7504 - val_accuracy: 0.7316\n",
      "Epoch 9/100\n",
      "43/43 [==============================] - 3s 74ms/step - loss: 0.6708 - accuracy: 0.7189 - val_loss: 0.5845 - val_accuracy: 0.7906\n",
      "Epoch 10/100\n",
      "43/43 [==============================] - 3s 74ms/step - loss: 0.5974 - accuracy: 0.7520 - val_loss: 0.6051 - val_accuracy: 0.7552\n",
      "Epoch 11/100\n",
      "43/43 [==============================] - 3s 74ms/step - loss: 0.6004 - accuracy: 0.7450 - val_loss: 0.5696 - val_accuracy: 0.7758\n",
      "Epoch 12/100\n",
      "43/43 [==============================] - 3s 74ms/step - loss: 0.5392 - accuracy: 0.7858 - val_loss: 0.5818 - val_accuracy: 0.7522\n",
      "Epoch 13/100\n",
      "43/43 [==============================] - 3s 74ms/step - loss: 0.4962 - accuracy: 0.8149 - val_loss: 0.5655 - val_accuracy: 0.7729\n",
      "Epoch 14/100\n",
      "43/43 [==============================] - 3s 74ms/step - loss: 0.5201 - accuracy: 0.7947 - val_loss: 0.5173 - val_accuracy: 0.8407\n",
      "Epoch 15/100\n",
      "43/43 [==============================] - 3s 74ms/step - loss: 0.5280 - accuracy: 0.7753 - val_loss: 0.4920 - val_accuracy: 0.8053\n",
      "Epoch 16/100\n",
      "43/43 [==============================] - 3s 74ms/step - loss: 0.5015 - accuracy: 0.8059 - val_loss: 0.5129 - val_accuracy: 0.8201\n",
      "Epoch 17/100\n",
      "43/43 [==============================] - 3s 74ms/step - loss: 0.4750 - accuracy: 0.8084 - val_loss: 0.5037 - val_accuracy: 0.8112\n",
      "Epoch 18/100\n",
      "43/43 [==============================] - 3s 75ms/step - loss: 0.3802 - accuracy: 0.8537 - val_loss: 0.5087 - val_accuracy: 0.8171\n",
      "Epoch 19/100\n",
      "43/43 [==============================] - 3s 75ms/step - loss: 0.3687 - accuracy: 0.8480 - val_loss: 0.4738 - val_accuracy: 0.8171\n",
      "Epoch 20/100\n",
      "43/43 [==============================] - 3s 74ms/step - loss: 0.4053 - accuracy: 0.8543 - val_loss: 0.5050 - val_accuracy: 0.8230\n",
      "Epoch 21/100\n",
      "43/43 [==============================] - 3s 74ms/step - loss: 0.4345 - accuracy: 0.8348 - val_loss: 0.5095 - val_accuracy: 0.8319\n",
      "Epoch 22/100\n",
      "43/43 [==============================] - 3s 74ms/step - loss: 0.3756 - accuracy: 0.8548 - val_loss: 0.4378 - val_accuracy: 0.8260\n",
      "Epoch 23/100\n",
      "43/43 [==============================] - 3s 75ms/step - loss: 0.3647 - accuracy: 0.8516 - val_loss: 0.4619 - val_accuracy: 0.8407\n",
      "Epoch 24/100\n",
      "43/43 [==============================] - 3s 75ms/step - loss: 0.3481 - accuracy: 0.8618 - val_loss: 0.5061 - val_accuracy: 0.8171\n",
      "Epoch 25/100\n",
      "43/43 [==============================] - 3s 74ms/step - loss: 0.3504 - accuracy: 0.8653 - val_loss: 0.4955 - val_accuracy: 0.8289\n",
      "Epoch 26/100\n",
      "43/43 [==============================] - 3s 75ms/step - loss: 0.3545 - accuracy: 0.8689 - val_loss: 0.4138 - val_accuracy: 0.8584\n",
      "Epoch 27/100\n",
      "43/43 [==============================] - 3s 74ms/step - loss: 0.3062 - accuracy: 0.8792 - val_loss: 0.4874 - val_accuracy: 0.8466\n",
      "Epoch 28/100\n",
      "43/43 [==============================] - 3s 74ms/step - loss: 0.3827 - accuracy: 0.8416 - val_loss: 0.4969 - val_accuracy: 0.8437\n",
      "Epoch 29/100\n",
      "43/43 [==============================] - 3s 74ms/step - loss: 0.3039 - accuracy: 0.8764 - val_loss: 0.5036 - val_accuracy: 0.8260\n",
      "Epoch 30/100\n",
      "43/43 [==============================] - 3s 74ms/step - loss: 0.3210 - accuracy: 0.8820 - val_loss: 0.3851 - val_accuracy: 0.8850\n",
      "Epoch 31/100\n",
      "43/43 [==============================] - 3s 75ms/step - loss: 0.2031 - accuracy: 0.9351 - val_loss: 0.4942 - val_accuracy: 0.8319\n",
      "Epoch 32/100\n",
      "43/43 [==============================] - 3s 74ms/step - loss: 0.2375 - accuracy: 0.9167 - val_loss: 0.4485 - val_accuracy: 0.8643\n",
      "Epoch 33/100\n",
      "43/43 [==============================] - 3s 74ms/step - loss: 0.1738 - accuracy: 0.9376 - val_loss: 0.4071 - val_accuracy: 0.8791\n",
      "Epoch 34/100\n",
      "43/43 [==============================] - 3s 74ms/step - loss: 0.1642 - accuracy: 0.9469 - val_loss: 0.4043 - val_accuracy: 0.9086\n",
      "Epoch 35/100\n",
      "43/43 [==============================] - 3s 74ms/step - loss: 0.1545 - accuracy: 0.9458 - val_loss: 0.4930 - val_accuracy: 0.8584\n",
      "Epoch 36/100\n",
      "43/43 [==============================] - 3s 74ms/step - loss: 0.1259 - accuracy: 0.9578 - val_loss: 0.3583 - val_accuracy: 0.9204\n",
      "Epoch 37/100\n",
      "43/43 [==============================] - 3s 75ms/step - loss: 0.1465 - accuracy: 0.9513 - val_loss: 0.4261 - val_accuracy: 0.8879\n",
      "Epoch 38/100\n",
      "43/43 [==============================] - 3s 74ms/step - loss: 0.1191 - accuracy: 0.9635 - val_loss: 0.4000 - val_accuracy: 0.9115\n",
      "Epoch 39/100\n",
      "43/43 [==============================] - 3s 74ms/step - loss: 0.1233 - accuracy: 0.9642 - val_loss: 0.3862 - val_accuracy: 0.8938\n",
      "Epoch 40/100\n",
      "43/43 [==============================] - 3s 74ms/step - loss: 0.1242 - accuracy: 0.9501 - val_loss: 0.3624 - val_accuracy: 0.9086\n",
      "Epoch 41/100\n",
      "43/43 [==============================] - 3s 74ms/step - loss: 0.1166 - accuracy: 0.9648 - val_loss: 0.3481 - val_accuracy: 0.9145\n",
      "Epoch 42/100\n",
      "43/43 [==============================] - 3s 74ms/step - loss: 0.1058 - accuracy: 0.9706 - val_loss: 0.5308 - val_accuracy: 0.8732\n",
      "Epoch 43/100\n",
      "43/43 [==============================] - 3s 74ms/step - loss: 0.0995 - accuracy: 0.9672 - val_loss: 0.3715 - val_accuracy: 0.8938\n",
      "Epoch 44/100\n",
      "43/43 [==============================] - 3s 74ms/step - loss: 0.1394 - accuracy: 0.9430 - val_loss: 0.5882 - val_accuracy: 0.8791\n",
      "Epoch 45/100\n",
      "43/43 [==============================] - 3s 74ms/step - loss: 0.2191 - accuracy: 0.9271 - val_loss: 0.6631 - val_accuracy: 0.8053\n",
      "Epoch 46/100\n",
      "43/43 [==============================] - 3s 74ms/step - loss: 0.2287 - accuracy: 0.9243 - val_loss: 0.4855 - val_accuracy: 0.8968\n",
      "Epoch 47/100\n",
      "43/43 [==============================] - 3s 74ms/step - loss: 0.1470 - accuracy: 0.9450 - val_loss: 0.4316 - val_accuracy: 0.8879\n",
      "Epoch 48/100\n",
      "43/43 [==============================] - 3s 74ms/step - loss: 0.1251 - accuracy: 0.9498 - val_loss: 0.4036 - val_accuracy: 0.9086\n",
      "Epoch 49/100\n",
      "43/43 [==============================] - 3s 74ms/step - loss: 0.1697 - accuracy: 0.9334 - val_loss: 0.3914 - val_accuracy: 0.8997\n",
      "Epoch 50/100\n",
      "43/43 [==============================] - 3s 74ms/step - loss: 0.1633 - accuracy: 0.9448 - val_loss: 0.4673 - val_accuracy: 0.8879\n",
      "Epoch 51/100\n",
      "43/43 [==============================] - 3s 74ms/step - loss: 0.0968 - accuracy: 0.9643 - val_loss: 0.5389 - val_accuracy: 0.8820\n",
      "Epoch 52/100\n",
      "43/43 [==============================] - 3s 74ms/step - loss: 0.1235 - accuracy: 0.9621 - val_loss: 0.5257 - val_accuracy: 0.8702\n",
      "Epoch 53/100\n",
      "43/43 [==============================] - 3s 74ms/step - loss: 0.0573 - accuracy: 0.9830 - val_loss: 0.4069 - val_accuracy: 0.9145\n",
      "Epoch 54/100\n",
      "43/43 [==============================] - 3s 74ms/step - loss: 0.0555 - accuracy: 0.9814 - val_loss: 0.4711 - val_accuracy: 0.8968\n",
      "Epoch 55/100\n",
      "43/43 [==============================] - 3s 74ms/step - loss: 0.0451 - accuracy: 0.9907 - val_loss: 0.3994 - val_accuracy: 0.9174\n",
      "Epoch 56/100\n",
      "43/43 [==============================] - 3s 74ms/step - loss: 0.0339 - accuracy: 0.9943 - val_loss: 0.4806 - val_accuracy: 0.8997\n",
      "Epoch 57/100\n",
      "43/43 [==============================] - 3s 74ms/step - loss: 0.1108 - accuracy: 0.9632 - val_loss: 0.5413 - val_accuracy: 0.8997\n",
      "Epoch 58/100\n"
     ]
    },
    {
     "name": "stdout",
     "output_type": "stream",
     "text": [
      "43/43 [==============================] - 3s 74ms/step - loss: 0.0627 - accuracy: 0.9787 - val_loss: 0.3966 - val_accuracy: 0.9174\n",
      "Epoch 59/100\n",
      "43/43 [==============================] - 3s 74ms/step - loss: 0.0598 - accuracy: 0.9830 - val_loss: 0.4257 - val_accuracy: 0.9145\n",
      "Epoch 60/100\n",
      "43/43 [==============================] - 3s 74ms/step - loss: 0.0785 - accuracy: 0.9773 - val_loss: 0.3970 - val_accuracy: 0.8997\n",
      "Epoch 61/100\n",
      "43/43 [==============================] - 3s 75ms/step - loss: 0.0449 - accuracy: 0.9883 - val_loss: 0.3740 - val_accuracy: 0.9174\n",
      "Epoch 62/100\n",
      "43/43 [==============================] - 3s 74ms/step - loss: 0.0324 - accuracy: 0.9909 - val_loss: 0.4636 - val_accuracy: 0.9174\n",
      "Epoch 63/100\n",
      "43/43 [==============================] - 3s 75ms/step - loss: 0.0417 - accuracy: 0.9885 - val_loss: 0.3500 - val_accuracy: 0.9381\n",
      "Epoch 64/100\n",
      "43/43 [==============================] - 3s 74ms/step - loss: 0.0550 - accuracy: 0.9795 - val_loss: 0.4763 - val_accuracy: 0.9027\n",
      "Epoch 65/100\n",
      "43/43 [==============================] - 3s 75ms/step - loss: 0.0433 - accuracy: 0.9908 - val_loss: 0.7474 - val_accuracy: 0.8643\n",
      "Epoch 66/100\n",
      "43/43 [==============================] - 3s 74ms/step - loss: 0.0447 - accuracy: 0.9882 - val_loss: 0.5235 - val_accuracy: 0.8968\n",
      "Epoch 67/100\n",
      "43/43 [==============================] - 3s 74ms/step - loss: 0.0275 - accuracy: 0.9917 - val_loss: 0.5972 - val_accuracy: 0.8879\n",
      "Epoch 68/100\n",
      "43/43 [==============================] - 3s 74ms/step - loss: 0.0291 - accuracy: 0.9900 - val_loss: 0.4490 - val_accuracy: 0.9204\n",
      "Epoch 69/100\n",
      "43/43 [==============================] - 3s 74ms/step - loss: 0.0406 - accuracy: 0.9913 - val_loss: 0.4808 - val_accuracy: 0.9027\n",
      "Epoch 70/100\n",
      "43/43 [==============================] - 3s 74ms/step - loss: 0.0538 - accuracy: 0.9886 - val_loss: 0.5101 - val_accuracy: 0.9027\n",
      "Epoch 71/100\n",
      "43/43 [==============================] - 3s 73ms/step - loss: 0.1715 - accuracy: 0.9453 - val_loss: 0.5237 - val_accuracy: 0.8820\n",
      "Epoch 72/100\n",
      "43/43 [==============================] - 3s 74ms/step - loss: 0.1201 - accuracy: 0.9596 - val_loss: 0.4372 - val_accuracy: 0.9115\n",
      "Epoch 73/100\n",
      "43/43 [==============================] - 3s 74ms/step - loss: 0.1043 - accuracy: 0.9623 - val_loss: 0.4979 - val_accuracy: 0.9056\n",
      "Epoch 74/100\n",
      "43/43 [==============================] - 3s 74ms/step - loss: 0.0802 - accuracy: 0.9795 - val_loss: 0.6259 - val_accuracy: 0.8791\n",
      "Epoch 75/100\n",
      "43/43 [==============================] - 3s 74ms/step - loss: 0.0693 - accuracy: 0.9762 - val_loss: 0.4223 - val_accuracy: 0.9086\n",
      "Epoch 76/100\n",
      "43/43 [==============================] - 3s 74ms/step - loss: 0.0499 - accuracy: 0.9853 - val_loss: 0.5439 - val_accuracy: 0.8791\n",
      "Epoch 77/100\n",
      "43/43 [==============================] - 3s 74ms/step - loss: 0.0561 - accuracy: 0.9818 - val_loss: 0.5296 - val_accuracy: 0.8791\n",
      "Epoch 78/100\n",
      "43/43 [==============================] - 3s 74ms/step - loss: 0.0318 - accuracy: 0.9908 - val_loss: 0.3543 - val_accuracy: 0.9351\n",
      "Epoch 79/100\n",
      "43/43 [==============================] - 3s 74ms/step - loss: 0.0361 - accuracy: 0.9863 - val_loss: 0.7005 - val_accuracy: 0.8673\n",
      "Epoch 80/100\n",
      "43/43 [==============================] - 3s 74ms/step - loss: 0.0276 - accuracy: 0.9897 - val_loss: 0.4694 - val_accuracy: 0.9115\n",
      "Epoch 81/100\n",
      "43/43 [==============================] - 3s 74ms/step - loss: 0.0296 - accuracy: 0.9929 - val_loss: 0.7118 - val_accuracy: 0.8791\n",
      "Epoch 82/100\n",
      "43/43 [==============================] - 3s 74ms/step - loss: 0.0647 - accuracy: 0.9782 - val_loss: 0.8351 - val_accuracy: 0.8643\n",
      "Epoch 83/100\n",
      "43/43 [==============================] - 3s 74ms/step - loss: 0.0797 - accuracy: 0.9699 - val_loss: 0.5584 - val_accuracy: 0.9056\n",
      "Epoch 84/100\n",
      "43/43 [==============================] - 3s 74ms/step - loss: 0.0981 - accuracy: 0.9601 - val_loss: 0.5863 - val_accuracy: 0.8820\n",
      "Epoch 85/100\n",
      "43/43 [==============================] - 3s 74ms/step - loss: 0.0831 - accuracy: 0.9831 - val_loss: 0.4190 - val_accuracy: 0.9115\n",
      "Epoch 86/100\n",
      "43/43 [==============================] - 3s 74ms/step - loss: 0.0528 - accuracy: 0.9859 - val_loss: 0.5018 - val_accuracy: 0.9027\n",
      "Epoch 87/100\n",
      "43/43 [==============================] - 3s 74ms/step - loss: 0.0347 - accuracy: 0.9866 - val_loss: 0.5465 - val_accuracy: 0.9027\n",
      "Epoch 88/100\n",
      "43/43 [==============================] - 3s 74ms/step - loss: 0.0585 - accuracy: 0.9781 - val_loss: 0.3932 - val_accuracy: 0.9233\n",
      "Epoch 89/100\n",
      "43/43 [==============================] - 3s 74ms/step - loss: 0.0653 - accuracy: 0.9792 - val_loss: 0.5340 - val_accuracy: 0.9086\n",
      "Epoch 90/100\n",
      "43/43 [==============================] - 3s 74ms/step - loss: 0.0398 - accuracy: 0.9930 - val_loss: 0.4526 - val_accuracy: 0.9115\n",
      "Epoch 91/100\n",
      "43/43 [==============================] - 3s 73ms/step - loss: 0.0454 - accuracy: 0.9824 - val_loss: 0.6201 - val_accuracy: 0.8850\n",
      "Epoch 92/100\n",
      "43/43 [==============================] - 3s 74ms/step - loss: 0.0531 - accuracy: 0.9809 - val_loss: 0.6556 - val_accuracy: 0.8850\n",
      "Epoch 93/100\n",
      "43/43 [==============================] - 3s 73ms/step - loss: 0.0500 - accuracy: 0.9813 - val_loss: 0.4684 - val_accuracy: 0.8968\n",
      "Epoch 94/100\n",
      "43/43 [==============================] - 3s 73ms/step - loss: 0.0742 - accuracy: 0.9776 - val_loss: 0.4685 - val_accuracy: 0.8997\n",
      "Epoch 95/100\n",
      "43/43 [==============================] - 3s 74ms/step - loss: 0.0458 - accuracy: 0.9877 - val_loss: 0.4690 - val_accuracy: 0.9174\n",
      "Epoch 96/100\n",
      "43/43 [==============================] - 3s 74ms/step - loss: 0.0309 - accuracy: 0.9931 - val_loss: 0.5736 - val_accuracy: 0.8938\n",
      "Epoch 97/100\n",
      "43/43 [==============================] - 3s 74ms/step - loss: 0.0293 - accuracy: 0.9902 - val_loss: 0.7863 - val_accuracy: 0.8791\n",
      "Epoch 98/100\n",
      "43/43 [==============================] - 3s 75ms/step - loss: 0.0571 - accuracy: 0.9822 - val_loss: 0.4569 - val_accuracy: 0.9174\n",
      "Epoch 99/100\n",
      "43/43 [==============================] - 3s 75ms/step - loss: 0.0619 - accuracy: 0.9779 - val_loss: 0.5703 - val_accuracy: 0.8673\n",
      "Epoch 100/100\n",
      "43/43 [==============================] - 3s 74ms/step - loss: 0.0785 - accuracy: 0.9709 - val_loss: 0.5248 - val_accuracy: 0.9027\n"
     ]
    }
   ],
   "source": [
    "# building and train model\n",
    "with tensorflow.device('/GPU:0'):\n",
    "    model3 = Sequential([\n",
    "#     data_augmentation,\n",
    "    tensorflow.keras.layers.Conv2D(32,(3,3),(1,1),'valid',activation='relu',input_shape=(224,224,3)),\n",
    "    tensorflow.keras.layers.MaxPooling2D((2,2),strides=2),\n",
    "    tensorflow.keras.layers.Conv2D(64,(3,3),(1,1),'valid',activation='relu'),\n",
    "    tensorflow.keras.layers.MaxPooling2D((2,2),strides=2),\n",
    "    tensorflow.keras.layers.Conv2D(128,(3,3),(1,1),'valid',activation='relu'),\n",
    "    tensorflow.keras.layers.MaxPooling2D((2,2),strides=2),\n",
    "    tensorflow.keras.layers.Dropout(0.5),\n",
    "    tensorflow.keras.layers.Flatten(),\n",
    "    tensorflow.keras.layers.Dense(128,activation='relu'),\n",
    "    tensorflow.keras.layers.Dense(3,activation=tensorflow.nn.softmax)\n",
    "    ])\n",
    "    \n",
    "    # compilation of the model\n",
    "    model3.compile('adam',loss=\"sparse_categorical_crossentropy\",metrics=['accuracy'])\n",
    "\n",
    "    # training of the model\n",
    "    history = model3.fit(x_train,y_train,epochs=100,verbose=1,validation_data=(x_test,y_test))"
   ]
  },
  {
   "cell_type": "code",
   "execution_count": null,
   "id": "e9774203",
   "metadata": {},
   "outputs": [],
   "source": []
  },
  {
   "cell_type": "code",
   "execution_count": null,
   "id": "742966a3",
   "metadata": {},
   "outputs": [],
   "source": []
  },
  {
   "cell_type": "code",
   "execution_count": 160,
   "id": "efe1232e",
   "metadata": {},
   "outputs": [
    {
     "name": "stdout",
     "output_type": "stream",
     "text": [
      "11/11 [==============================] - 1s 31ms/step - loss: 0.5248 - accuracy: 0.9027\n",
      "loss: 0.5248045325279236\n",
      "Accuracy: 0.9026548862457275\n"
     ]
    }
   ],
   "source": [
    "loss,accuracy = model3.evaluate(x_test,y_test)\n",
    "print(\"loss:\",loss)\n",
    "print(\"Accuracy:\",accuracy)"
   ]
  },
  {
   "cell_type": "code",
   "execution_count": 119,
   "id": "67b31fdb",
   "metadata": {},
   "outputs": [
    {
     "data": {
      "text/plain": [
       "array([[[0, 0, 0],\n",
       "        [0, 0, 0],\n",
       "        [0, 0, 0],\n",
       "        ...,\n",
       "        [0, 0, 0],\n",
       "        [0, 0, 0],\n",
       "        [0, 0, 0]],\n",
       "\n",
       "       [[0, 0, 0],\n",
       "        [0, 0, 0],\n",
       "        [0, 0, 0],\n",
       "        ...,\n",
       "        [0, 0, 0],\n",
       "        [0, 0, 0],\n",
       "        [0, 0, 0]],\n",
       "\n",
       "       [[0, 0, 0],\n",
       "        [0, 0, 0],\n",
       "        [0, 0, 0],\n",
       "        ...,\n",
       "        [0, 0, 0],\n",
       "        [0, 0, 0],\n",
       "        [0, 0, 0]],\n",
       "\n",
       "       ...,\n",
       "\n",
       "       [[0, 0, 0],\n",
       "        [0, 0, 0],\n",
       "        [0, 0, 0],\n",
       "        ...,\n",
       "        [0, 0, 0],\n",
       "        [0, 0, 0],\n",
       "        [0, 0, 0]],\n",
       "\n",
       "       [[0, 0, 0],\n",
       "        [0, 0, 0],\n",
       "        [0, 0, 0],\n",
       "        ...,\n",
       "        [0, 0, 0],\n",
       "        [0, 0, 0],\n",
       "        [0, 0, 0]],\n",
       "\n",
       "       [[0, 0, 0],\n",
       "        [0, 0, 0],\n",
       "        [0, 0, 0],\n",
       "        ...,\n",
       "        [0, 0, 0],\n",
       "        [0, 0, 0],\n",
       "        [0, 0, 0]]], dtype=uint8)"
      ]
     },
     "execution_count": 119,
     "metadata": {},
     "output_type": "execute_result"
    }
   ],
   "source": [
    "x_test[0]"
   ]
  },
  {
   "cell_type": "code",
   "execution_count": 161,
   "id": "ea8357d7",
   "metadata": {},
   "outputs": [
    {
     "data": {
      "text/plain": [
       "array([[6.3199340e-04, 4.0109044e-06, 9.9936396e-01]], dtype=float32)"
      ]
     },
     "execution_count": 161,
     "metadata": {},
     "output_type": "execute_result"
    }
   ],
   "source": [
    "model3.predict(np.expand_dims(dataset[790][0],axis=0))"
   ]
  },
  {
   "cell_type": "code",
   "execution_count": 121,
   "id": "6db4c2fa",
   "metadata": {},
   "outputs": [
    {
     "ename": "KeyboardInterrupt",
     "evalue": "",
     "output_type": "error",
     "traceback": [
      "\u001b[1;31m---------------------------------------------------------------------------\u001b[0m",
      "\u001b[1;31mKeyboardInterrupt\u001b[0m                         Traceback (most recent call last)",
      "\u001b[1;32m<ipython-input-121-fb03c2352800>\u001b[0m in \u001b[0;36m<module>\u001b[1;34m\u001b[0m\n\u001b[1;32m----> 1\u001b[1;33m \u001b[0mmodel\u001b[0m\u001b[1;33m.\u001b[0m\u001b[0msave\u001b[0m\u001b[1;33m(\u001b[0m\u001b[1;34m\"D:/Eye Disease/archive\"\u001b[0m\u001b[1;33m)\u001b[0m\u001b[1;33m\u001b[0m\u001b[1;33m\u001b[0m\u001b[0m\n\u001b[0m",
      "\u001b[1;32m~\\anaconda3\\lib\\site-packages\\tensorflow\\python\\keras\\engine\\training.py\u001b[0m in \u001b[0;36msave\u001b[1;34m(self, filepath, overwrite, include_optimizer, save_format, signatures, options, save_traces)\u001b[0m\n\u001b[0;32m   1999\u001b[0m     \"\"\"\n\u001b[0;32m   2000\u001b[0m     \u001b[1;31m# pylint: enable=line-too-long\u001b[0m\u001b[1;33m\u001b[0m\u001b[1;33m\u001b[0m\u001b[1;33m\u001b[0m\u001b[0m\n\u001b[1;32m-> 2001\u001b[1;33m     save.save_model(self, filepath, overwrite, include_optimizer, save_format,\n\u001b[0m\u001b[0;32m   2002\u001b[0m                     signatures, options, save_traces)\n\u001b[0;32m   2003\u001b[0m \u001b[1;33m\u001b[0m\u001b[0m\n",
      "\u001b[1;32m~\\anaconda3\\lib\\site-packages\\tensorflow\\python\\keras\\saving\\save.py\u001b[0m in \u001b[0;36msave_model\u001b[1;34m(model, filepath, overwrite, include_optimizer, save_format, signatures, options, save_traces)\u001b[0m\n\u001b[0;32m    154\u001b[0m         model, filepath, overwrite, include_optimizer)\n\u001b[0;32m    155\u001b[0m   \u001b[1;32melse\u001b[0m\u001b[1;33m:\u001b[0m\u001b[1;33m\u001b[0m\u001b[1;33m\u001b[0m\u001b[0m\n\u001b[1;32m--> 156\u001b[1;33m     saved_model_save.save(model, filepath, overwrite, include_optimizer,\n\u001b[0m\u001b[0;32m    157\u001b[0m                           signatures, options, save_traces)\n\u001b[0;32m    158\u001b[0m \u001b[1;33m\u001b[0m\u001b[0m\n",
      "\u001b[1;32m~\\anaconda3\\lib\\site-packages\\tensorflow\\python\\keras\\saving\\saved_model\\save.py\u001b[0m in \u001b[0;36msave\u001b[1;34m(model, filepath, overwrite, include_optimizer, signatures, options, save_traces)\u001b[0m\n\u001b[0;32m     87\u001b[0m     \u001b[1;32mwith\u001b[0m \u001b[0mdistribution_strategy_context\u001b[0m\u001b[1;33m.\u001b[0m\u001b[0m_get_default_replica_context\u001b[0m\u001b[1;33m(\u001b[0m\u001b[1;33m)\u001b[0m\u001b[1;33m:\u001b[0m  \u001b[1;31m# pylint: disable=protected-access\u001b[0m\u001b[1;33m\u001b[0m\u001b[1;33m\u001b[0m\u001b[0m\n\u001b[0;32m     88\u001b[0m       \u001b[1;32mwith\u001b[0m \u001b[0mutils\u001b[0m\u001b[1;33m.\u001b[0m\u001b[0mkeras_option_scope\u001b[0m\u001b[1;33m(\u001b[0m\u001b[0msave_traces\u001b[0m\u001b[1;33m)\u001b[0m\u001b[1;33m:\u001b[0m\u001b[1;33m\u001b[0m\u001b[1;33m\u001b[0m\u001b[0m\n\u001b[1;32m---> 89\u001b[1;33m         \u001b[0msave_lib\u001b[0m\u001b[1;33m.\u001b[0m\u001b[0msave\u001b[0m\u001b[1;33m(\u001b[0m\u001b[0mmodel\u001b[0m\u001b[1;33m,\u001b[0m \u001b[0mfilepath\u001b[0m\u001b[1;33m,\u001b[0m \u001b[0msignatures\u001b[0m\u001b[1;33m,\u001b[0m \u001b[0moptions\u001b[0m\u001b[1;33m)\u001b[0m\u001b[1;33m\u001b[0m\u001b[1;33m\u001b[0m\u001b[0m\n\u001b[0m\u001b[0;32m     90\u001b[0m \u001b[1;33m\u001b[0m\u001b[0m\n\u001b[0;32m     91\u001b[0m   \u001b[1;32mif\u001b[0m \u001b[1;32mnot\u001b[0m \u001b[0minclude_optimizer\u001b[0m\u001b[1;33m:\u001b[0m\u001b[1;33m\u001b[0m\u001b[1;33m\u001b[0m\u001b[0m\n",
      "\u001b[1;32m~\\anaconda3\\lib\\site-packages\\tensorflow\\python\\saved_model\\save.py\u001b[0m in \u001b[0;36msave\u001b[1;34m(obj, export_dir, signatures, options)\u001b[0m\n\u001b[0;32m   1030\u001b[0m   \u001b[0mmeta_graph_def\u001b[0m \u001b[1;33m=\u001b[0m \u001b[0msaved_model\u001b[0m\u001b[1;33m.\u001b[0m\u001b[0mmeta_graphs\u001b[0m\u001b[1;33m.\u001b[0m\u001b[0madd\u001b[0m\u001b[1;33m(\u001b[0m\u001b[1;33m)\u001b[0m\u001b[1;33m\u001b[0m\u001b[1;33m\u001b[0m\u001b[0m\n\u001b[0;32m   1031\u001b[0m \u001b[1;33m\u001b[0m\u001b[0m\n\u001b[1;32m-> 1032\u001b[1;33m   _, exported_graph, object_saver, asset_info = _build_meta_graph(\n\u001b[0m\u001b[0;32m   1033\u001b[0m       obj, signatures, options, meta_graph_def)\n\u001b[0;32m   1034\u001b[0m   \u001b[0msaved_model\u001b[0m\u001b[1;33m.\u001b[0m\u001b[0msaved_model_schema_version\u001b[0m \u001b[1;33m=\u001b[0m \u001b[0mconstants\u001b[0m\u001b[1;33m.\u001b[0m\u001b[0mSAVED_MODEL_SCHEMA_VERSION\u001b[0m\u001b[1;33m\u001b[0m\u001b[1;33m\u001b[0m\u001b[0m\n",
      "\u001b[1;32m~\\anaconda3\\lib\\site-packages\\tensorflow\\python\\saved_model\\save.py\u001b[0m in \u001b[0;36m_build_meta_graph\u001b[1;34m(obj, signatures, options, meta_graph_def)\u001b[0m\n\u001b[0;32m   1196\u001b[0m \u001b[1;33m\u001b[0m\u001b[0m\n\u001b[0;32m   1197\u001b[0m   \u001b[1;32mwith\u001b[0m \u001b[0msave_context\u001b[0m\u001b[1;33m.\u001b[0m\u001b[0msave_context\u001b[0m\u001b[1;33m(\u001b[0m\u001b[0moptions\u001b[0m\u001b[1;33m)\u001b[0m\u001b[1;33m:\u001b[0m\u001b[1;33m\u001b[0m\u001b[1;33m\u001b[0m\u001b[0m\n\u001b[1;32m-> 1198\u001b[1;33m     \u001b[1;32mreturn\u001b[0m \u001b[0m_build_meta_graph_impl\u001b[0m\u001b[1;33m(\u001b[0m\u001b[0mobj\u001b[0m\u001b[1;33m,\u001b[0m \u001b[0msignatures\u001b[0m\u001b[1;33m,\u001b[0m \u001b[0moptions\u001b[0m\u001b[1;33m,\u001b[0m \u001b[0mmeta_graph_def\u001b[0m\u001b[1;33m)\u001b[0m\u001b[1;33m\u001b[0m\u001b[1;33m\u001b[0m\u001b[0m\n\u001b[0m",
      "\u001b[1;32m~\\anaconda3\\lib\\site-packages\\tensorflow\\python\\saved_model\\save.py\u001b[0m in \u001b[0;36m_build_meta_graph_impl\u001b[1;34m(obj, signatures, options, meta_graph_def)\u001b[0m\n\u001b[0;32m   1145\u001b[0m   \u001b[1;31m# Note we run this twice since, while constructing the view the first time\u001b[0m\u001b[1;33m\u001b[0m\u001b[1;33m\u001b[0m\u001b[1;33m\u001b[0m\u001b[0m\n\u001b[0;32m   1146\u001b[0m   \u001b[1;31m# there can be side effects of creating variables.\u001b[0m\u001b[1;33m\u001b[0m\u001b[1;33m\u001b[0m\u001b[1;33m\u001b[0m\u001b[0m\n\u001b[1;32m-> 1147\u001b[1;33m   \u001b[0m_\u001b[0m \u001b[1;33m=\u001b[0m \u001b[0m_SaveableView\u001b[0m\u001b[1;33m(\u001b[0m\u001b[0mcheckpoint_graph_view\u001b[0m\u001b[1;33m,\u001b[0m \u001b[0moptions\u001b[0m\u001b[1;33m)\u001b[0m\u001b[1;33m\u001b[0m\u001b[1;33m\u001b[0m\u001b[0m\n\u001b[0m\u001b[0;32m   1148\u001b[0m   saveable_view = _SaveableView(checkpoint_graph_view, options,\n\u001b[0;32m   1149\u001b[0m                                 wrapped_functions)\n",
      "\u001b[1;32m~\\anaconda3\\lib\\site-packages\\tensorflow\\python\\saved_model\\save.py\u001b[0m in \u001b[0;36m__init__\u001b[1;34m(self, checkpoint_view, options, wrapped_functions)\u001b[0m\n\u001b[0;32m    223\u001b[0m           \u001b[1;31m#  variables on first run.\u001b[0m\u001b[1;33m\u001b[0m\u001b[1;33m\u001b[0m\u001b[1;33m\u001b[0m\u001b[0m\n\u001b[0;32m    224\u001b[0m           concrete_functions = (\n\u001b[1;32m--> 225\u001b[1;33m               function._list_all_concrete_functions_for_serialization())  # pylint: disable=protected-access\n\u001b[0m\u001b[0;32m    226\u001b[0m         \u001b[1;32melse\u001b[0m\u001b[1;33m:\u001b[0m\u001b[1;33m\u001b[0m\u001b[1;33m\u001b[0m\u001b[0m\n\u001b[0;32m    227\u001b[0m           \u001b[0mconcrete_functions\u001b[0m \u001b[1;33m=\u001b[0m \u001b[1;33m[\u001b[0m\u001b[0mfunction\u001b[0m\u001b[1;33m]\u001b[0m\u001b[1;33m\u001b[0m\u001b[1;33m\u001b[0m\u001b[0m\n",
      "\u001b[1;32m~\\anaconda3\\lib\\site-packages\\tensorflow\\python\\eager\\def_function.py\u001b[0m in \u001b[0;36m_list_all_concrete_functions_for_serialization\u001b[1;34m(self)\u001b[0m\n\u001b[0;32m   1179\u001b[0m     \u001b[0mconcrete_functions\u001b[0m \u001b[1;33m=\u001b[0m \u001b[1;33m[\u001b[0m\u001b[1;33m]\u001b[0m\u001b[1;33m\u001b[0m\u001b[1;33m\u001b[0m\u001b[0m\n\u001b[0;32m   1180\u001b[0m     \u001b[1;32mfor\u001b[0m \u001b[0margs\u001b[0m\u001b[1;33m,\u001b[0m \u001b[0mkwargs\u001b[0m \u001b[1;32min\u001b[0m \u001b[0mseen_signatures\u001b[0m\u001b[1;33m:\u001b[0m\u001b[1;33m\u001b[0m\u001b[1;33m\u001b[0m\u001b[0m\n\u001b[1;32m-> 1181\u001b[1;33m       \u001b[0mconcrete_functions\u001b[0m\u001b[1;33m.\u001b[0m\u001b[0mappend\u001b[0m\u001b[1;33m(\u001b[0m\u001b[0mself\u001b[0m\u001b[1;33m.\u001b[0m\u001b[0mget_concrete_function\u001b[0m\u001b[1;33m(\u001b[0m\u001b[1;33m*\u001b[0m\u001b[0margs\u001b[0m\u001b[1;33m,\u001b[0m \u001b[1;33m**\u001b[0m\u001b[0mkwargs\u001b[0m\u001b[1;33m)\u001b[0m\u001b[1;33m)\u001b[0m\u001b[1;33m\u001b[0m\u001b[1;33m\u001b[0m\u001b[0m\n\u001b[0m\u001b[0;32m   1182\u001b[0m     \u001b[1;32mreturn\u001b[0m \u001b[0mconcrete_functions\u001b[0m\u001b[1;33m\u001b[0m\u001b[1;33m\u001b[0m\u001b[0m\n\u001b[0;32m   1183\u001b[0m \u001b[1;33m\u001b[0m\u001b[0m\n",
      "\u001b[1;32m~\\anaconda3\\lib\\site-packages\\tensorflow\\python\\keras\\saving\\saved_model\\save_impl.py\u001b[0m in \u001b[0;36mget_concrete_function\u001b[1;34m(self, *args, **kwargs)\u001b[0m\n\u001b[0;32m    547\u001b[0m   \u001b[1;32mdef\u001b[0m \u001b[0mget_concrete_function\u001b[0m\u001b[1;33m(\u001b[0m\u001b[0mself\u001b[0m\u001b[1;33m,\u001b[0m \u001b[1;33m*\u001b[0m\u001b[0margs\u001b[0m\u001b[1;33m,\u001b[0m \u001b[1;33m**\u001b[0m\u001b[0mkwargs\u001b[0m\u001b[1;33m)\u001b[0m\u001b[1;33m:\u001b[0m\u001b[1;33m\u001b[0m\u001b[1;33m\u001b[0m\u001b[0m\n\u001b[0;32m    548\u001b[0m     \u001b[1;32mif\u001b[0m \u001b[1;32mnot\u001b[0m \u001b[0mself\u001b[0m\u001b[1;33m.\u001b[0m\u001b[0mcall_collection\u001b[0m\u001b[1;33m.\u001b[0m\u001b[0mtracing\u001b[0m\u001b[1;33m:\u001b[0m\u001b[1;33m\u001b[0m\u001b[1;33m\u001b[0m\u001b[0m\n\u001b[1;32m--> 549\u001b[1;33m       \u001b[0mself\u001b[0m\u001b[1;33m.\u001b[0m\u001b[0mcall_collection\u001b[0m\u001b[1;33m.\u001b[0m\u001b[0madd_trace\u001b[0m\u001b[1;33m(\u001b[0m\u001b[1;33m*\u001b[0m\u001b[0margs\u001b[0m\u001b[1;33m,\u001b[0m \u001b[1;33m**\u001b[0m\u001b[0mkwargs\u001b[0m\u001b[1;33m)\u001b[0m\u001b[1;33m\u001b[0m\u001b[1;33m\u001b[0m\u001b[0m\n\u001b[0m\u001b[0;32m    550\u001b[0m     \u001b[1;32mreturn\u001b[0m \u001b[0msuper\u001b[0m\u001b[1;33m(\u001b[0m\u001b[0mLayerCall\u001b[0m\u001b[1;33m,\u001b[0m \u001b[0mself\u001b[0m\u001b[1;33m)\u001b[0m\u001b[1;33m.\u001b[0m\u001b[0mget_concrete_function\u001b[0m\u001b[1;33m(\u001b[0m\u001b[1;33m*\u001b[0m\u001b[0margs\u001b[0m\u001b[1;33m,\u001b[0m \u001b[1;33m**\u001b[0m\u001b[0mkwargs\u001b[0m\u001b[1;33m)\u001b[0m\u001b[1;33m\u001b[0m\u001b[1;33m\u001b[0m\u001b[0m\n\u001b[0;32m    551\u001b[0m \u001b[1;33m\u001b[0m\u001b[0m\n",
      "\u001b[1;32m~\\anaconda3\\lib\\site-packages\\tensorflow\\python\\keras\\saving\\saved_model\\save_impl.py\u001b[0m in \u001b[0;36madd_trace\u001b[1;34m(self, *args, **kwargs)\u001b[0m\n\u001b[0;32m    418\u001b[0m             \u001b[0mfn\u001b[0m\u001b[1;33m.\u001b[0m\u001b[0mget_concrete_function\u001b[0m\u001b[1;33m(\u001b[0m\u001b[1;33m*\u001b[0m\u001b[0margs\u001b[0m\u001b[1;33m,\u001b[0m \u001b[1;33m**\u001b[0m\u001b[0mkwargs\u001b[0m\u001b[1;33m)\u001b[0m\u001b[1;33m\u001b[0m\u001b[1;33m\u001b[0m\u001b[0m\n\u001b[0;32m    419\u001b[0m \u001b[1;33m\u001b[0m\u001b[0m\n\u001b[1;32m--> 420\u001b[1;33m         \u001b[0mtrace_with_training\u001b[0m\u001b[1;33m(\u001b[0m\u001b[1;32mTrue\u001b[0m\u001b[1;33m)\u001b[0m\u001b[1;33m\u001b[0m\u001b[1;33m\u001b[0m\u001b[0m\n\u001b[0m\u001b[0;32m    421\u001b[0m         \u001b[0mtrace_with_training\u001b[0m\u001b[1;33m(\u001b[0m\u001b[1;32mFalse\u001b[0m\u001b[1;33m)\u001b[0m\u001b[1;33m\u001b[0m\u001b[1;33m\u001b[0m\u001b[0m\n\u001b[0;32m    422\u001b[0m       \u001b[1;32melse\u001b[0m\u001b[1;33m:\u001b[0m\u001b[1;33m\u001b[0m\u001b[1;33m\u001b[0m\u001b[0m\n",
      "\u001b[1;32m~\\anaconda3\\lib\\site-packages\\tensorflow\\python\\keras\\saving\\saved_model\\save_impl.py\u001b[0m in \u001b[0;36mtrace_with_training\u001b[1;34m(value, fn)\u001b[0m\n\u001b[0;32m    416\u001b[0m           \u001b[0mutils\u001b[0m\u001b[1;33m.\u001b[0m\u001b[0mset_training_arg\u001b[0m\u001b[1;33m(\u001b[0m\u001b[0mvalue\u001b[0m\u001b[1;33m,\u001b[0m \u001b[0mself\u001b[0m\u001b[1;33m.\u001b[0m\u001b[0m_training_arg_index\u001b[0m\u001b[1;33m,\u001b[0m \u001b[0margs\u001b[0m\u001b[1;33m,\u001b[0m \u001b[0mkwargs\u001b[0m\u001b[1;33m)\u001b[0m\u001b[1;33m\u001b[0m\u001b[1;33m\u001b[0m\u001b[0m\n\u001b[0;32m    417\u001b[0m           \u001b[1;32mwith\u001b[0m \u001b[0mK\u001b[0m\u001b[1;33m.\u001b[0m\u001b[0mdeprecated_internal_learning_phase_scope\u001b[0m\u001b[1;33m(\u001b[0m\u001b[0mvalue\u001b[0m\u001b[1;33m)\u001b[0m\u001b[1;33m:\u001b[0m\u001b[1;33m\u001b[0m\u001b[1;33m\u001b[0m\u001b[0m\n\u001b[1;32m--> 418\u001b[1;33m             \u001b[0mfn\u001b[0m\u001b[1;33m.\u001b[0m\u001b[0mget_concrete_function\u001b[0m\u001b[1;33m(\u001b[0m\u001b[1;33m*\u001b[0m\u001b[0margs\u001b[0m\u001b[1;33m,\u001b[0m \u001b[1;33m**\u001b[0m\u001b[0mkwargs\u001b[0m\u001b[1;33m)\u001b[0m\u001b[1;33m\u001b[0m\u001b[1;33m\u001b[0m\u001b[0m\n\u001b[0m\u001b[0;32m    419\u001b[0m \u001b[1;33m\u001b[0m\u001b[0m\n\u001b[0;32m    420\u001b[0m         \u001b[0mtrace_with_training\u001b[0m\u001b[1;33m(\u001b[0m\u001b[1;32mTrue\u001b[0m\u001b[1;33m)\u001b[0m\u001b[1;33m\u001b[0m\u001b[1;33m\u001b[0m\u001b[0m\n",
      "\u001b[1;32m~\\anaconda3\\lib\\site-packages\\tensorflow\\python\\keras\\saving\\saved_model\\save_impl.py\u001b[0m in \u001b[0;36mget_concrete_function\u001b[1;34m(self, *args, **kwargs)\u001b[0m\n\u001b[0;32m    548\u001b[0m     \u001b[1;32mif\u001b[0m \u001b[1;32mnot\u001b[0m \u001b[0mself\u001b[0m\u001b[1;33m.\u001b[0m\u001b[0mcall_collection\u001b[0m\u001b[1;33m.\u001b[0m\u001b[0mtracing\u001b[0m\u001b[1;33m:\u001b[0m\u001b[1;33m\u001b[0m\u001b[1;33m\u001b[0m\u001b[0m\n\u001b[0;32m    549\u001b[0m       \u001b[0mself\u001b[0m\u001b[1;33m.\u001b[0m\u001b[0mcall_collection\u001b[0m\u001b[1;33m.\u001b[0m\u001b[0madd_trace\u001b[0m\u001b[1;33m(\u001b[0m\u001b[1;33m*\u001b[0m\u001b[0margs\u001b[0m\u001b[1;33m,\u001b[0m \u001b[1;33m**\u001b[0m\u001b[0mkwargs\u001b[0m\u001b[1;33m)\u001b[0m\u001b[1;33m\u001b[0m\u001b[1;33m\u001b[0m\u001b[0m\n\u001b[1;32m--> 550\u001b[1;33m     \u001b[1;32mreturn\u001b[0m \u001b[0msuper\u001b[0m\u001b[1;33m(\u001b[0m\u001b[0mLayerCall\u001b[0m\u001b[1;33m,\u001b[0m \u001b[0mself\u001b[0m\u001b[1;33m)\u001b[0m\u001b[1;33m.\u001b[0m\u001b[0mget_concrete_function\u001b[0m\u001b[1;33m(\u001b[0m\u001b[1;33m*\u001b[0m\u001b[0margs\u001b[0m\u001b[1;33m,\u001b[0m \u001b[1;33m**\u001b[0m\u001b[0mkwargs\u001b[0m\u001b[1;33m)\u001b[0m\u001b[1;33m\u001b[0m\u001b[1;33m\u001b[0m\u001b[0m\n\u001b[0m\u001b[0;32m    551\u001b[0m \u001b[1;33m\u001b[0m\u001b[0m\n\u001b[0;32m    552\u001b[0m \u001b[1;33m\u001b[0m\u001b[0m\n",
      "\u001b[1;32m~\\anaconda3\\lib\\site-packages\\tensorflow\\python\\eager\\def_function.py\u001b[0m in \u001b[0;36mget_concrete_function\u001b[1;34m(self, *args, **kwargs)\u001b[0m\n\u001b[0;32m   1297\u001b[0m       \u001b[0mValueError\u001b[0m\u001b[1;33m:\u001b[0m \u001b[1;32mif\u001b[0m \u001b[0mthis\u001b[0m \u001b[0mobject\u001b[0m \u001b[0mhas\u001b[0m \u001b[1;32mnot\u001b[0m \u001b[0myet\u001b[0m \u001b[0mbeen\u001b[0m \u001b[0mcalled\u001b[0m \u001b[0mon\u001b[0m \u001b[0mconcrete\u001b[0m \u001b[0mvalues\u001b[0m\u001b[1;33m.\u001b[0m\u001b[1;33m\u001b[0m\u001b[1;33m\u001b[0m\u001b[0m\n\u001b[0;32m   1298\u001b[0m     \"\"\"\n\u001b[1;32m-> 1299\u001b[1;33m     \u001b[0mconcrete\u001b[0m \u001b[1;33m=\u001b[0m \u001b[0mself\u001b[0m\u001b[1;33m.\u001b[0m\u001b[0m_get_concrete_function_garbage_collected\u001b[0m\u001b[1;33m(\u001b[0m\u001b[1;33m*\u001b[0m\u001b[0margs\u001b[0m\u001b[1;33m,\u001b[0m \u001b[1;33m**\u001b[0m\u001b[0mkwargs\u001b[0m\u001b[1;33m)\u001b[0m\u001b[1;33m\u001b[0m\u001b[1;33m\u001b[0m\u001b[0m\n\u001b[0m\u001b[0;32m   1300\u001b[0m     \u001b[0mconcrete\u001b[0m\u001b[1;33m.\u001b[0m\u001b[0m_garbage_collector\u001b[0m\u001b[1;33m.\u001b[0m\u001b[0mrelease\u001b[0m\u001b[1;33m(\u001b[0m\u001b[1;33m)\u001b[0m  \u001b[1;31m# pylint: disable=protected-access\u001b[0m\u001b[1;33m\u001b[0m\u001b[1;33m\u001b[0m\u001b[0m\n\u001b[0;32m   1301\u001b[0m     \u001b[1;32mreturn\u001b[0m \u001b[0mconcrete\u001b[0m\u001b[1;33m\u001b[0m\u001b[1;33m\u001b[0m\u001b[0m\n",
      "\u001b[1;32m~\\anaconda3\\lib\\site-packages\\tensorflow\\python\\eager\\def_function.py\u001b[0m in \u001b[0;36m_get_concrete_function_garbage_collected\u001b[1;34m(self, *args, **kwargs)\u001b[0m\n\u001b[0;32m   1214\u001b[0m       \u001b[1;31m# In this case we have not created variables on the first call. So we can\u001b[0m\u001b[1;33m\u001b[0m\u001b[1;33m\u001b[0m\u001b[1;33m\u001b[0m\u001b[0m\n\u001b[0;32m   1215\u001b[0m       \u001b[1;31m# run the first trace but we should fail if variables are created.\u001b[0m\u001b[1;33m\u001b[0m\u001b[1;33m\u001b[0m\u001b[1;33m\u001b[0m\u001b[0m\n\u001b[1;32m-> 1216\u001b[1;33m       concrete = self._stateful_fn._get_concrete_function_garbage_collected(  # pylint: disable=protected-access\n\u001b[0m\u001b[0;32m   1217\u001b[0m           *args, **kwargs)\n\u001b[0;32m   1218\u001b[0m       \u001b[1;32mif\u001b[0m \u001b[0mself\u001b[0m\u001b[1;33m.\u001b[0m\u001b[0m_created_variables\u001b[0m\u001b[1;33m:\u001b[0m\u001b[1;33m\u001b[0m\u001b[1;33m\u001b[0m\u001b[0m\n",
      "\u001b[1;32m~\\anaconda3\\lib\\site-packages\\tensorflow\\python\\eager\\function.py\u001b[0m in \u001b[0;36m_get_concrete_function_garbage_collected\u001b[1;34m(self, *args, **kwargs)\u001b[0m\n\u001b[0;32m   3017\u001b[0m       \u001b[0margs\u001b[0m\u001b[1;33m,\u001b[0m \u001b[0mkwargs\u001b[0m \u001b[1;33m=\u001b[0m \u001b[1;32mNone\u001b[0m\u001b[1;33m,\u001b[0m \u001b[1;32mNone\u001b[0m\u001b[1;33m\u001b[0m\u001b[1;33m\u001b[0m\u001b[0m\n\u001b[0;32m   3018\u001b[0m     \u001b[1;32mwith\u001b[0m \u001b[0mself\u001b[0m\u001b[1;33m.\u001b[0m\u001b[0m_lock\u001b[0m\u001b[1;33m:\u001b[0m\u001b[1;33m\u001b[0m\u001b[1;33m\u001b[0m\u001b[0m\n\u001b[1;32m-> 3019\u001b[1;33m       \u001b[0mgraph_function\u001b[0m\u001b[1;33m,\u001b[0m \u001b[0m_\u001b[0m \u001b[1;33m=\u001b[0m \u001b[0mself\u001b[0m\u001b[1;33m.\u001b[0m\u001b[0m_maybe_define_function\u001b[0m\u001b[1;33m(\u001b[0m\u001b[0margs\u001b[0m\u001b[1;33m,\u001b[0m \u001b[0mkwargs\u001b[0m\u001b[1;33m)\u001b[0m\u001b[1;33m\u001b[0m\u001b[1;33m\u001b[0m\u001b[0m\n\u001b[0m\u001b[0;32m   3020\u001b[0m       \u001b[0mseen_names\u001b[0m \u001b[1;33m=\u001b[0m \u001b[0mset\u001b[0m\u001b[1;33m(\u001b[0m\u001b[1;33m)\u001b[0m\u001b[1;33m\u001b[0m\u001b[1;33m\u001b[0m\u001b[0m\n\u001b[0;32m   3021\u001b[0m       captured = object_identity.ObjectIdentitySet(\n",
      "\u001b[1;32m~\\anaconda3\\lib\\site-packages\\tensorflow\\python\\eager\\function.py\u001b[0m in \u001b[0;36m_maybe_define_function\u001b[1;34m(self, args, kwargs)\u001b[0m\n\u001b[0;32m   3359\u001b[0m \u001b[1;33m\u001b[0m\u001b[0m\n\u001b[0;32m   3360\u001b[0m           \u001b[0mself\u001b[0m\u001b[1;33m.\u001b[0m\u001b[0m_function_cache\u001b[0m\u001b[1;33m.\u001b[0m\u001b[0mmissed\u001b[0m\u001b[1;33m.\u001b[0m\u001b[0madd\u001b[0m\u001b[1;33m(\u001b[0m\u001b[0mcall_context_key\u001b[0m\u001b[1;33m)\u001b[0m\u001b[1;33m\u001b[0m\u001b[1;33m\u001b[0m\u001b[0m\n\u001b[1;32m-> 3361\u001b[1;33m           \u001b[0mgraph_function\u001b[0m \u001b[1;33m=\u001b[0m \u001b[0mself\u001b[0m\u001b[1;33m.\u001b[0m\u001b[0m_create_graph_function\u001b[0m\u001b[1;33m(\u001b[0m\u001b[0margs\u001b[0m\u001b[1;33m,\u001b[0m \u001b[0mkwargs\u001b[0m\u001b[1;33m)\u001b[0m\u001b[1;33m\u001b[0m\u001b[1;33m\u001b[0m\u001b[0m\n\u001b[0m\u001b[0;32m   3362\u001b[0m           \u001b[0mself\u001b[0m\u001b[1;33m.\u001b[0m\u001b[0m_function_cache\u001b[0m\u001b[1;33m.\u001b[0m\u001b[0mprimary\u001b[0m\u001b[1;33m[\u001b[0m\u001b[0mcache_key\u001b[0m\u001b[1;33m]\u001b[0m \u001b[1;33m=\u001b[0m \u001b[0mgraph_function\u001b[0m\u001b[1;33m\u001b[0m\u001b[1;33m\u001b[0m\u001b[0m\n\u001b[0;32m   3363\u001b[0m \u001b[1;33m\u001b[0m\u001b[0m\n",
      "\u001b[1;32m~\\anaconda3\\lib\\site-packages\\tensorflow\\python\\eager\\function.py\u001b[0m in \u001b[0;36m_create_graph_function\u001b[1;34m(self, args, kwargs, override_flat_arg_shapes)\u001b[0m\n\u001b[0;32m   3194\u001b[0m     \u001b[0marg_names\u001b[0m \u001b[1;33m=\u001b[0m \u001b[0mbase_arg_names\u001b[0m \u001b[1;33m+\u001b[0m \u001b[0mmissing_arg_names\u001b[0m\u001b[1;33m\u001b[0m\u001b[1;33m\u001b[0m\u001b[0m\n\u001b[0;32m   3195\u001b[0m     graph_function = ConcreteFunction(\n\u001b[1;32m-> 3196\u001b[1;33m         func_graph_module.func_graph_from_py_func(\n\u001b[0m\u001b[0;32m   3197\u001b[0m             \u001b[0mself\u001b[0m\u001b[1;33m.\u001b[0m\u001b[0m_name\u001b[0m\u001b[1;33m,\u001b[0m\u001b[1;33m\u001b[0m\u001b[1;33m\u001b[0m\u001b[0m\n\u001b[0;32m   3198\u001b[0m             \u001b[0mself\u001b[0m\u001b[1;33m.\u001b[0m\u001b[0m_python_function\u001b[0m\u001b[1;33m,\u001b[0m\u001b[1;33m\u001b[0m\u001b[1;33m\u001b[0m\u001b[0m\n",
      "\u001b[1;32m~\\anaconda3\\lib\\site-packages\\tensorflow\\python\\framework\\func_graph.py\u001b[0m in \u001b[0;36mfunc_graph_from_py_func\u001b[1;34m(name, python_func, args, kwargs, signature, func_graph, autograph, autograph_options, add_control_dependencies, arg_names, op_return_value, collections, capture_by_value, override_flat_arg_shapes)\u001b[0m\n\u001b[0;32m   1029\u001b[0m         if x is not None)\n\u001b[0;32m   1030\u001b[0m \u001b[1;33m\u001b[0m\u001b[0m\n\u001b[1;32m-> 1031\u001b[1;33m     \u001b[0mfunc_graph\u001b[0m\u001b[1;33m.\u001b[0m\u001b[0mvariables\u001b[0m \u001b[1;33m=\u001b[0m \u001b[0mvariables\u001b[0m\u001b[1;33m\u001b[0m\u001b[1;33m\u001b[0m\u001b[0m\n\u001b[0m\u001b[0;32m   1032\u001b[0m \u001b[1;33m\u001b[0m\u001b[0m\n\u001b[0;32m   1033\u001b[0m   \u001b[1;32mif\u001b[0m \u001b[0madd_control_dependencies\u001b[0m\u001b[1;33m:\u001b[0m\u001b[1;33m\u001b[0m\u001b[1;33m\u001b[0m\u001b[0m\n",
      "\u001b[1;32m~\\anaconda3\\lib\\site-packages\\tensorflow\\python\\framework\\auto_control_deps.py\u001b[0m in \u001b[0;36m__exit__\u001b[1;34m(self, unused_type, unused_value, unused_traceback)\u001b[0m\n\u001b[0;32m    407\u001b[0m       \u001b[1;31m# Check for any resource inputs. If we find any, we update control_inputs\u001b[0m\u001b[1;33m\u001b[0m\u001b[1;33m\u001b[0m\u001b[1;33m\u001b[0m\u001b[0m\n\u001b[0;32m    408\u001b[0m       \u001b[1;31m# and last_write_to_resource.\u001b[0m\u001b[1;33m\u001b[0m\u001b[1;33m\u001b[0m\u001b[1;33m\u001b[0m\u001b[0m\n\u001b[1;32m--> 409\u001b[1;33m       \u001b[1;32mfor\u001b[0m \u001b[0minp\u001b[0m\u001b[1;33m,\u001b[0m \u001b[0mresource_type\u001b[0m \u001b[1;32min\u001b[0m \u001b[0m_get_resource_inputs\u001b[0m\u001b[1;33m(\u001b[0m\u001b[0mop\u001b[0m\u001b[1;33m)\u001b[0m\u001b[1;33m:\u001b[0m\u001b[1;33m\u001b[0m\u001b[1;33m\u001b[0m\u001b[0m\n\u001b[0m\u001b[0;32m    410\u001b[0m         \u001b[0mis_read\u001b[0m \u001b[1;33m=\u001b[0m \u001b[0mresource_type\u001b[0m \u001b[1;33m==\u001b[0m \u001b[0mResourceType\u001b[0m\u001b[1;33m.\u001b[0m\u001b[0mREAD_ONLY\u001b[0m\u001b[1;33m\u001b[0m\u001b[1;33m\u001b[0m\u001b[0m\n\u001b[0;32m    411\u001b[0m         \u001b[0minput_id\u001b[0m \u001b[1;33m=\u001b[0m \u001b[0mops\u001b[0m\u001b[1;33m.\u001b[0m\u001b[0mtensor_id\u001b[0m\u001b[1;33m(\u001b[0m\u001b[0minp\u001b[0m\u001b[1;33m)\u001b[0m\u001b[1;33m\u001b[0m\u001b[1;33m\u001b[0m\u001b[0m\n",
      "\u001b[1;32m~\\anaconda3\\lib\\site-packages\\tensorflow\\python\\framework\\auto_control_deps.py\u001b[0m in \u001b[0;36m_get_resource_inputs\u001b[1;34m(op)\u001b[0m\n\u001b[0;32m    539\u001b[0m       \u001b[1;31m# TODO(srbs): An alternate would be to just compare the old and new set\u001b[0m\u001b[1;33m\u001b[0m\u001b[1;33m\u001b[0m\u001b[1;33m\u001b[0m\u001b[0m\n\u001b[0;32m    540\u001b[0m       \u001b[1;31m# but that may not be as fast.\u001b[0m\u001b[1;33m\u001b[0m\u001b[1;33m\u001b[0m\u001b[1;33m\u001b[0m\u001b[0m\n\u001b[1;32m--> 541\u001b[1;33m       \u001b[0mupdated\u001b[0m \u001b[1;33m=\u001b[0m \u001b[0m_acd_resource_resolvers_registry\u001b[0m\u001b[1;33m.\u001b[0m\u001b[0mlookup\u001b[0m\u001b[1;33m(\u001b[0m\u001b[0mkey\u001b[0m\u001b[1;33m)\u001b[0m\u001b[1;33m(\u001b[0m\u001b[0mop\u001b[0m\u001b[1;33m,\u001b[0m \u001b[0mreads\u001b[0m\u001b[1;33m,\u001b[0m \u001b[0mwrites\u001b[0m\u001b[1;33m)\u001b[0m\u001b[1;33m\u001b[0m\u001b[1;33m\u001b[0m\u001b[0m\n\u001b[0m\u001b[0;32m    542\u001b[0m       \u001b[1;32mif\u001b[0m \u001b[0mupdated\u001b[0m\u001b[1;33m:\u001b[0m\u001b[1;33m\u001b[0m\u001b[1;33m\u001b[0m\u001b[0m\n\u001b[0;32m    543\u001b[0m         \u001b[1;31m# Conservatively remove any resources from `reads` that are also writes.\u001b[0m\u001b[1;33m\u001b[0m\u001b[1;33m\u001b[0m\u001b[1;33m\u001b[0m\u001b[0m\n",
      "\u001b[1;32m~\\anaconda3\\lib\\site-packages\\tensorflow\\python\\data\\ops\\dataset_ops.py\u001b[0m in \u001b[0;36m_resource_resolver\u001b[1;34m(op, resource_reads, resource_writes)\u001b[0m\n\u001b[0;32m   4759\u001b[0m \u001b[1;33m\u001b[0m\u001b[0m\n\u001b[0;32m   4760\u001b[0m   \u001b[0mupdated\u001b[0m \u001b[1;33m=\u001b[0m \u001b[1;32mFalse\u001b[0m\u001b[1;33m\u001b[0m\u001b[1;33m\u001b[0m\u001b[0m\n\u001b[1;32m-> 4761\u001b[1;33m   if op.type in [\n\u001b[0m\u001b[0;32m   4762\u001b[0m       \u001b[1;34m\"DatasetToSingleElement\"\u001b[0m\u001b[1;33m,\u001b[0m \u001b[1;34m\"DatasetToTFRecord\"\u001b[0m\u001b[1;33m,\u001b[0m \u001b[1;34m\"ReduceDataset\"\u001b[0m\u001b[1;33m\u001b[0m\u001b[1;33m\u001b[0m\u001b[0m\n\u001b[0;32m   4763\u001b[0m   ]:\n",
      "\u001b[1;32m~\\anaconda3\\lib\\site-packages\\tensorflow\\python\\framework\\ops.py\u001b[0m in \u001b[0;36mtype\u001b[1;34m(self)\u001b[0m\n\u001b[0;32m   2422\u001b[0m   \u001b[1;32mdef\u001b[0m \u001b[0mtype\u001b[0m\u001b[1;33m(\u001b[0m\u001b[0mself\u001b[0m\u001b[1;33m)\u001b[0m\u001b[1;33m:\u001b[0m\u001b[1;33m\u001b[0m\u001b[1;33m\u001b[0m\u001b[0m\n\u001b[0;32m   2423\u001b[0m     \u001b[1;34m\"\"\"The type of the op (e.g. `\"MatMul\"`).\"\"\"\u001b[0m\u001b[1;33m\u001b[0m\u001b[1;33m\u001b[0m\u001b[0m\n\u001b[1;32m-> 2424\u001b[1;33m     \u001b[1;32mreturn\u001b[0m \u001b[0mpywrap_tf_session\u001b[0m\u001b[1;33m.\u001b[0m\u001b[0mTF_OperationOpType\u001b[0m\u001b[1;33m(\u001b[0m\u001b[0mself\u001b[0m\u001b[1;33m.\u001b[0m\u001b[0m_c_op\u001b[0m\u001b[1;33m)\u001b[0m\u001b[1;33m\u001b[0m\u001b[1;33m\u001b[0m\u001b[0m\n\u001b[0m\u001b[0;32m   2425\u001b[0m \u001b[1;33m\u001b[0m\u001b[0m\n\u001b[0;32m   2426\u001b[0m   \u001b[1;33m@\u001b[0m\u001b[0mproperty\u001b[0m\u001b[1;33m\u001b[0m\u001b[1;33m\u001b[0m\u001b[0m\n",
      "\u001b[1;31mKeyboardInterrupt\u001b[0m: "
     ]
    }
   ],
   "source": [
    "model.save(\"D:/Eye Disease/archive\")"
   ]
  },
  {
   "cell_type": "code",
   "execution_count": 228,
   "id": "4e38a22e",
   "metadata": {},
   "outputs": [],
   "source": [
    "model3.save('model{0}.h5'.format(7))"
   ]
  },
  {
   "cell_type": "code",
   "execution_count": 227,
   "id": "22d864ac",
   "metadata": {},
   "outputs": [
    {
     "data": {
      "text/plain": [
       "'D:\\\\Eye Disease\\\\archive'"
      ]
     },
     "execution_count": 227,
     "metadata": {},
     "output_type": "execute_result"
    }
   ],
   "source": [
    "pwd"
   ]
  },
  {
   "cell_type": "code",
   "execution_count": 239,
   "id": "e0685e69",
   "metadata": {},
   "outputs": [
    {
     "name": "stdout",
     "output_type": "stream",
     "text": [
      "2.4551844596862793\n"
     ]
    }
   ],
   "source": [
    "import time\n",
    "c = time.time()\n",
    "new_model2 = tensorflow.keras.models.load_model('model{0}.h5'.format(2))\n",
    "print(time.time()-c)"
   ]
  },
  {
   "cell_type": "code",
   "execution_count": null,
   "id": "7b99025a",
   "metadata": {},
   "outputs": [],
   "source": []
  },
  {
   "cell_type": "code",
   "execution_count": null,
   "id": "4003b772",
   "metadata": {},
   "outputs": [],
   "source": []
  },
  {
   "cell_type": "code",
   "execution_count": 123,
   "id": "cb002c22",
   "metadata": {},
   "outputs": [
    {
     "name": "stdout",
     "output_type": "stream",
     "text": [
      "-12.992981195449829\n"
     ]
    }
   ],
   "source": [
    "import time\n",
    "c = time.time()\n",
    "new_model = tensorflow.keras.models.load_model('D:/Eye Disease/archive')\n",
    "print(c-time.time())"
   ]
  },
  {
   "cell_type": "code",
   "execution_count": null,
   "id": "30337a81",
   "metadata": {},
   "outputs": [],
   "source": []
  },
  {
   "cell_type": "code",
   "execution_count": null,
   "id": "6cec33ed",
   "metadata": {},
   "outputs": [],
   "source": []
  },
  {
   "cell_type": "code",
   "execution_count": 124,
   "id": "0858c7b3",
   "metadata": {},
   "outputs": [
    {
     "data": {
      "text/plain": [
       "array(2)"
      ]
     },
     "execution_count": 124,
     "metadata": {},
     "output_type": "execute_result"
    }
   ],
   "source": [
    "dataset[790][1]"
   ]
  },
  {
   "cell_type": "code",
   "execution_count": null,
   "id": "91ab3048",
   "metadata": {},
   "outputs": [],
   "source": [
    "# 1378_left.jpg', '1386_left.jpg', '1388_left.jpg', '1389_left.jpg',\n",
    "#        '1392_left.jpg', '1393_left.jpg', '1408_left.jpg', '1409_left.jpg',\n",
    "#        '1411_left.jpg', '1413_left.jpg', '1415_left.jpg', '1416_left.jpg',\n",
    "#        '1417_left.jpg', '1420_left.jpg', '1425_left.jpg', '1427_left.jpg',"
   ]
  },
  {
   "cell_type": "code",
   "execution_count": null,
   "id": "dcd473d9",
   "metadata": {},
   "outputs": [],
   "source": [
    "# 1115_left.jpg', '1144_left.jpg', '1164_left.jpg', '1285_left.jpg',\n",
    "#        '1415_left.jpg', '1435_left.jpg', '1444_left.jpg', '1452_left.jpg',\n",
    "#        '1468_left.jpg', '1483_left.jpg', '1484_left.jpg', '1987_left.jpg',\n",
    "#        '1994_left.jpg', '2052_left.jpg', '2098_left.jpg', '2099_left.jpg',"
   ]
  },
  {
   "cell_type": "code",
   "execution_count": null,
   "id": "2f6bc349",
   "metadata": {},
   "outputs": [],
   "source": [
    "# '2192_right.jpg', '2193_right.jpg', '2194_right.jpg',\n",
    "#        '2195_right.jpg', '2196_right.jpg', '2197_right.jpg',"
   ]
  },
  {
   "cell_type": "code",
   "execution_count": 206,
   "id": "96ead1ed",
   "metadata": {},
   "outputs": [
    {
     "name": "stdout",
     "output_type": "stream",
     "text": [
      "[[4.2111235e-08 9.9999702e-01 2.9678956e-06]]\n"
     ]
    },
    {
     "data": {
      "text/plain": [
       "1"
      ]
     },
     "execution_count": 206,
     "metadata": {},
     "output_type": "execute_result"
    }
   ],
   "source": [
    "new_img = cv2.imread(\"D:/Eye Disease/archive/preprocessed_images/2197_right.jpg\")\n",
    "new_img = cv2.resize(new_img,(224,224))\n",
    "pred = new_model2.predict(np.expand_dims(new_img,axis=0))\n",
    "print(pred)\n",
    "np.argmax(pred[0])"
   ]
  },
  {
   "cell_type": "code",
   "execution_count": null,
   "id": "f1b45182",
   "metadata": {},
   "outputs": [],
   "source": []
  },
  {
   "cell_type": "code",
   "execution_count": null,
   "id": "b24a673e",
   "metadata": {},
   "outputs": [],
   "source": [
    "model.predict(np.expand_dims(new_img,axis=0))"
   ]
  },
  {
   "cell_type": "code",
   "execution_count": null,
   "id": "e41d1aa4",
   "metadata": {},
   "outputs": [],
   "source": [
    "new_model2.predict(np.expand_dims(new_img,axis=0))"
   ]
  },
  {
   "cell_type": "code",
   "execution_count": 207,
   "id": "68471f4a",
   "metadata": {},
   "outputs": [],
   "source": [
    "x_pred = new_model2.predict(x_test)"
   ]
  },
  {
   "cell_type": "code",
   "execution_count": 208,
   "id": "3f9d95b7",
   "metadata": {},
   "outputs": [
    {
     "data": {
      "text/plain": [
       "array([[1.8957464e-04, 9.9979931e-01, 1.1126660e-05],\n",
       "       [5.3007858e-07, 9.9995756e-01, 4.1956067e-05],\n",
       "       [6.6850477e-01, 2.3612901e-04, 3.3125907e-01],\n",
       "       ...,\n",
       "       [4.6266257e-05, 5.9794683e-11, 9.9995375e-01],\n",
       "       [9.9519438e-01, 4.6868641e-03, 1.1877227e-04],\n",
       "       [2.2128836e-06, 9.9998891e-01, 8.7863709e-06]], dtype=float32)"
      ]
     },
     "execution_count": 208,
     "metadata": {},
     "output_type": "execute_result"
    }
   ],
   "source": [
    "x_pred"
   ]
  },
  {
   "cell_type": "code",
   "execution_count": 238,
   "id": "29d0a6b3",
   "metadata": {},
   "outputs": [
    {
     "data": {
      "text/plain": [
       "array([ 0,  0,  0,  0,  0,  0,  0,  0,  0,  0,  0,  0,  0,  0,  0,  0,  0,\n",
       "        0,  1,  0,  0,  0,  0,  0,  0,  0,  0,  0,  0,  0,  0,  0,  0,  0,\n",
       "        0,  0,  1,  2,  0,  0,  0,  0,  0,  0,  0,  0,  0,  0,  0,  0,  0,\n",
       "        0,  0,  0,  0,  0,  0,  0,  0,  0,  0,  0,  0,  0,  0,  0,  0,  0,\n",
       "        0,  0,  0,  0,  0,  0,  0,  0,  0,  0,  0,  0,  1,  0,  0,  0,  0,\n",
       "        0,  0,  0,  0,  0,  0,  0,  0,  0,  0,  0,  2,  0,  2,  0,  2,  1,\n",
       "        1,  0,  0,  1,  0,  0,  0,  0,  0,  0,  0,  0,  0,  0,  0,  0,  0,\n",
       "        0,  0,  0,  0,  0,  0,  0,  0,  0,  0,  0,  0,  0,  2,  2,  0,  0,\n",
       "        0,  0,  0,  2,  0,  0,  0,  0,  0,  0,  0,  0,  0,  0,  2,  0,  0,\n",
       "        0,  0,  0,  0,  0,  0,  0,  0,  0,  0,  0,  0,  0,  0,  0,  0,  1,\n",
       "        0,  0,  0,  0,  0,  0,  0,  0,  0,  0,  1,  0,  0,  0,  2,  0,  0,\n",
       "        0,  0,  0,  1,  0,  0,  0,  0,  0,  0,  0,  0,  0,  2,  0,  0,  0,\n",
       "        0,  0,  0,  0,  0,  0, -2,  0, -1,  2,  0,  0,  0,  0,  0,  0,  0,\n",
       "        0,  0,  0,  2,  0,  0,  0,  0,  0,  0,  0,  0,  0,  2,  0,  0,  0,\n",
       "        0,  0,  0,  0,  0,  0,  0,  0,  2,  0,  0,  0,  0,  0,  0,  0,  0,\n",
       "        0, -2,  0,  0,  0,  0,  0,  0,  0,  0,  0,  1,  2,  0,  0,  0,  0,\n",
       "        2,  0,  0,  0,  0,  0,  0,  0,  0,  0,  0,  0,  0,  0,  0,  0,  0,\n",
       "        0,  0,  0,  0,  1,  0,  0,  0,  1,  0,  0,  0,  0,  2,  0,  0,  0,\n",
       "        0,  0,  0,  0,  0,  0,  0,  0,  0,  0,  0,  0,  0,  0,  0,  0,  0,\n",
       "        0,  0,  0,  0,  0,  0,  0,  0,  0,  0,  0,  0,  2,  0,  0,  0],\n",
       "      dtype=int64)"
      ]
     },
     "execution_count": 238,
     "metadata": {},
     "output_type": "execute_result"
    }
   ],
   "source": [
    "np.argmax(x_pred,axis=1) - y_test"
   ]
  },
  {
   "cell_type": "code",
   "execution_count": 240,
   "id": "739b194a",
   "metadata": {},
   "outputs": [
    {
     "data": {
      "text/plain": [
       "array([ 0,  0,  0,  0,  0,  0,  0,  0,  0,  0,  0,  0,  0,  0,  0,  0,  0,\n",
       "        0,  0,  0,  0,  0,  0,  0,  0,  0,  0,  0,  0,  0,  0,  0,  0,  0,\n",
       "        0,  0,  0,  0,  0,  0,  0,  0,  0,  0,  0,  0,  0,  0,  0,  0,  0,\n",
       "        0,  0,  0,  0,  0,  0,  2,  0,  0,  0,  0,  0,  0,  0,  0,  0,  0,\n",
       "        0,  0,  0,  0,  0,  0,  0,  0,  0,  0,  0,  0,  1,  0,  0,  0,  0,\n",
       "        0,  0,  0,  0,  0,  0,  0,  0,  0,  0,  0,  0,  0,  0,  0,  2,  0,\n",
       "        0,  0,  0,  0,  0,  0,  0,  0,  0,  0,  0,  0,  0,  0,  0,  0,  0,\n",
       "        0,  0, -2,  0,  0,  0,  0,  0,  0, -2,  0,  0,  0,  0,  0,  0,  0,\n",
       "        0,  0,  0,  0,  0,  0, -2,  0,  0,  0,  0,  0,  0,  0,  0,  0,  0,\n",
       "        0,  0,  0,  0,  0,  0,  0,  0,  0,  0,  0,  0,  0, -2,  0,  0,  0,\n",
       "        0,  0,  0,  0,  0,  0,  0,  0,  0,  0,  1,  0,  0,  0,  0,  0,  0,\n",
       "        0,  0,  0,  0,  0,  0,  0,  0,  0,  0,  0,  0,  0,  0,  0,  0,  0,\n",
       "        0,  0,  0,  0,  0,  0,  0,  0,  0,  0,  0,  0,  0,  0,  0,  0,  0,\n",
       "        0,  0,  0,  0,  0,  0,  0,  0,  0,  0,  0, -2,  0,  0,  0,  0,  0,\n",
       "        0,  0,  0,  0,  0,  0,  0,  0,  0,  0,  0,  0,  0,  0,  0,  0,  0,\n",
       "        0,  0,  0,  0,  0,  0,  0,  0,  0,  0,  0,  0,  0,  0,  0,  0,  0,\n",
       "        0,  0,  0,  0,  0,  0,  0,  0,  0,  0,  0,  0,  0,  0,  0,  0,  0,\n",
       "        0,  0,  0,  0,  0,  0,  0,  0,  0,  0,  0,  0,  0,  0,  0,  0,  0,\n",
       "        0,  0,  0,  0,  0,  0,  0,  0,  0,  0,  0,  0,  0, -2,  0,  0,  0,\n",
       "        0,  0,  0,  0,  0,  0,  0,  0,  0,  0,  0,  0,  0,  0,  0,  0],\n",
       "      dtype=int64)"
      ]
     },
     "execution_count": 240,
     "metadata": {},
     "output_type": "execute_result"
    }
   ],
   "source": [
    "np.argmax(new_model2.predict(x_test),axis=1) - y_test"
   ]
  },
  {
   "cell_type": "code",
   "execution_count": null,
   "id": "5335593b",
   "metadata": {},
   "outputs": [],
   "source": []
  },
  {
   "cell_type": "code",
   "execution_count": null,
   "id": "f839bb91",
   "metadata": {},
   "outputs": [],
   "source": []
  },
  {
   "cell_type": "code",
   "execution_count": 57,
   "id": "12df87da",
   "metadata": {},
   "outputs": [],
   "source": [
    "import pickle\n",
    "\n"
   ]
  },
  {
   "cell_type": "code",
   "execution_count": 256,
   "id": "4376cd47",
   "metadata": {},
   "outputs": [],
   "source": [
    "new_model = tensorflow.keras.models.load_model('D:/Eye Disease/archive')"
   ]
  },
  {
   "cell_type": "code",
   "execution_count": 255,
   "id": "4ed8c2a1",
   "metadata": {},
   "outputs": [
    {
     "data": {
      "text/plain": [
       "array([[2.3719747e-32, 1.0000000e+00, 0.0000000e+00]], dtype=float32)"
      ]
     },
     "execution_count": 255,
     "metadata": {},
     "output_type": "execute_result"
    }
   ],
   "source": [
    "new_model.predict(np.expand_dims(dataset[700][0],axis=0))"
   ]
  },
  {
   "cell_type": "code",
   "execution_count": null,
   "id": "7c06b099",
   "metadata": {},
   "outputs": [],
   "source": []
  },
  {
   "cell_type": "code",
   "execution_count": 218,
   "id": "cc7a012c",
   "metadata": {},
   "outputs": [
    {
     "ename": "EOFError",
     "evalue": "Ran out of input",
     "output_type": "error",
     "traceback": [
      "\u001b[1;31m---------------------------------------------------------------------------\u001b[0m",
      "\u001b[1;31mEOFError\u001b[0m                                  Traceback (most recent call last)",
      "\u001b[1;32m<ipython-input-218-54e66b933806>\u001b[0m in \u001b[0;36m<module>\u001b[1;34m\u001b[0m\n\u001b[1;32m----> 1\u001b[1;33m \u001b[0mnew_model\u001b[0m \u001b[1;33m=\u001b[0m \u001b[0mpickle\u001b[0m\u001b[1;33m.\u001b[0m\u001b[0mload\u001b[0m\u001b[1;33m(\u001b[0m\u001b[0mopen\u001b[0m\u001b[1;33m(\u001b[0m\u001b[1;34m'model.pkl'\u001b[0m\u001b[1;33m,\u001b[0m\u001b[1;34m'rb'\u001b[0m\u001b[1;33m)\u001b[0m\u001b[1;33m)\u001b[0m\u001b[1;33m\u001b[0m\u001b[1;33m\u001b[0m\u001b[0m\n\u001b[0m",
      "\u001b[1;31mEOFError\u001b[0m: Ran out of input"
     ]
    }
   ],
   "source": [
    "new_model = pickle.load(open('model.pkl','rb'))"
   ]
  },
  {
   "cell_type": "code",
   "execution_count": null,
   "id": "e241c6ca",
   "metadata": {},
   "outputs": [],
   "source": []
  }
 ],
 "metadata": {
  "kernelspec": {
   "display_name": "Python 3",
   "language": "python",
   "name": "python3"
  },
  "language_info": {
   "codemirror_mode": {
    "name": "ipython",
    "version": 3
   },
   "file_extension": ".py",
   "mimetype": "text/x-python",
   "name": "python",
   "nbconvert_exporter": "python",
   "pygments_lexer": "ipython3",
   "version": "3.8.8"
  }
 },
 "nbformat": 4,
 "nbformat_minor": 5
}
